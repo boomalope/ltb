{
 "cells": [
  {
   "cell_type": "code",
   "execution_count": 1,
   "id": "525f246f-4d92-4328-8963-3001b5a64e1e",
   "metadata": {},
   "outputs": [
    {
     "name": "stdout",
     "output_type": "stream",
     "text": [
      "36499\n",
      "122\n",
      "36499\n"
     ]
    },
    {
     "name": "stderr",
     "output_type": "stream",
     "text": [
      "[nltk_data] Downloading package punkt to /home/bunds/nltk_data...\n",
      "[nltk_data]   Package punkt is already up-to-date!\n",
      "[nltk_data] Downloading package wordnet to /home/bunds/nltk_data...\n",
      "[nltk_data]   Package wordnet is already up-to-date!\n",
      "[nltk_data] Downloading package punkt to /home/bunds/nltk_data...\n",
      "[nltk_data]   Package punkt is already up-to-date!\n",
      "[nltk_data] Downloading package wordnet to /home/bunds/nltk_data...\n",
      "[nltk_data]   Package wordnet is already up-to-date!\n"
     ]
    }
   ],
   "source": [
    "import re, os, glob, csv, math, requests, time, sys, random, json, datetime, urllib, nltk\n",
    "import pandas as pd\n",
    "from bs4 import BeautifulSoup as bs\n",
    "from selenium import webdriver\n",
    "from sklearn.utils import shuffle      \n",
    "import numpy as np\n",
    "from nordvpn_switcher import initialize_VPN,rotate_VPN,terminate_VPN\n",
    "import multiprocessing as mp\n",
    "from tqdm import tqdm\n",
    "from webscraping_kit import write_htmlfile, write_json_tofile, write_driverhtmlfile, rmnl\n",
    "from webscraping_kit import read_jsoncsv, read_htmlfile, read_htmlresponse, read_driverresponse, get_cases\n",
    "from string import digits\n",
    "from stop_words import get_stop_words\n",
    "from nltk.corpus import stopwords\n",
    "from nltk.stem import WordNetLemmatizer\n",
    "from nltk.stem import PorterStemmer\n",
    "from nltk.util import everygrams\n",
    "from nltk.tokenize import sent_tokenize\n",
    "from htmlparsing_kit import *\n",
    "\n",
    "def update(*a):\n",
    "    pbar.update()\n",
    "    \n",
    "def get_errortype(x):\n",
    "    if \"404 Error\" in x:\n",
    "        tag = 'not_found'\n",
    "    elif x.startswith('ERROR_Request failed'):\n",
    "        tag = 'failed_request'\n",
    "    elif x.startswith('ERROR_Timed out waiting'):\n",
    "        tag = 'timed_out'\n",
    "    elif x == 'no_error':\n",
    "        tag = 'no_error'\n",
    "    else:\n",
    "        tag = 'parsing_error'\n",
    "    return tag\n",
    "\n",
    "def get_cleanjudloc(texts,ldict,jdict):\n",
    "    cjllist = []\n",
    "    for t in texts:\n",
    "        k = t.split('_',1)[0].strip()\n",
    "        cjllist.append('|'.join([k+'_'+map_cleanjl(t,ldict),k+'_'+map_cleanjl(t,jdict)]))\n",
    "    return cjllist\n",
    "\n",
    "def parse_parallelresults(jlresults):\n",
    "    jldict = {}\n",
    "    for jl in jlresults:\n",
    "        v = [j.split('_',1)[-1].strip() for j in jl.split('|')]\n",
    "        v = [re.sub('|','',j).strip() for j in v]\n",
    "        v = '|'.join([j for j in v if j])\n",
    "        k = jl.split('_',1)[0].strip()\n",
    "        jldict[k] = v\n",
    "    return jldict\n",
    "\n",
    "def preprocess_list(textchunk,stopwordslist,pattern):\n",
    "    tres = []\n",
    "    for t in textchunk:\n",
    "        tres.append(t.split('_',1)[0].strip() + '_' + preprocess(t,stopwordslist,pattern))\n",
    "    return tres\n",
    "\n",
    "def process_parallel(chunks,functiontype,ldict,jdict,stopwordslist,pattern,pbar):\n",
    "    pool = mp.Pool(processes=10)\n",
    "    # pbar = tqdm(textchunks)\n",
    "    jlresults = []\n",
    "    for i in range(pbar.total): \n",
    "        if functiontype == \"get_cleanjudloc\":\n",
    "            jlresults.append(pool.apply_async(get_cleanjudloc, args=(textchunks[i],ldict,jdict), callback=update))\n",
    "        else:\n",
    "            jlresults.append(pool.apply_async(preprocess_list, args=(textchunks[i],stopwordslist,pattern), callback=update))\n",
    "            continue\n",
    "    pool.close()\n",
    "    pool.join()\n",
    "    return jlresults\n",
    "\n",
    "def check_membertype(member):\n",
    "    m = member.lower()\n",
    "    if 'vice chair' in m:\n",
    "        m = '_vicechair'\n",
    "    elif 'vice-chair' in m:\n",
    "        m = '_vicechair'\n",
    "    elif 'vice char' in m:\n",
    "        m ='_vicechair'\n",
    "    elif 'vice cha' in m:\n",
    "        m = '_vicechair'\n",
    "    elif 'member' in m:\n",
    "        m = '_member'\n",
    "    elif 'dispute resolution officer' in m:\n",
    "        m = '_disputeresolutionofficer'\n",
    "    elif 'hearing officer' in m:\n",
    "        m = '_hearingofficer'\n",
    "    elif 'hearings officer' in m:\n",
    "        m = '_hearingofficer'\n",
    "    elif 'associate chair' in m:\n",
    "        m = '_associatechair'\n",
    "    else:\n",
    "        m = 'missing'\n",
    "    return m\n",
    "\n",
    "mainpath = str(os.getcwd())+'/'\n",
    "metadataoutfile =  mainpath + 'output/3_metadata.csv'\n",
    "metadatamissingoutfile =  mainpath + 'output/3_metadata_missing.csv'\n",
    "df = pd.read_csv(mainpath + 'output/2_casefileidx.csv',sep='\\t')\n",
    "df = df[['cid','year','source','caseurl','goodcasefiles']]\n",
    "\n",
    "porter = PorterStemmer() \n",
    "remove_digits = str.maketrans('', '', digits)\n",
    "stopwordslist = create_stopwordslist()\n",
    "pattern = re.compile(r'\\b(' + r'|'.join(stopwordslist) + r')\\b\\s*')\n",
    "nltk.download('punkt')\n",
    "nltk.download('wordnet')\n",
    "\n",
    "goodhtmlfiles = df['goodcasefiles'].tolist()\n",
    "print(len(goodhtmlfiles))\n",
    "\n",
    "htmlchunks = list(divide_chunks(goodhtmlfiles,300))\n",
    "print(len(htmlchunks))\n",
    "print(len([item for sublist in htmlchunks for item in sublist]))"
   ]
  },
  {
   "cell_type": "code",
   "execution_count": null,
   "id": "ba7bd31f-3293-4846-aaa8-117460ba6d51",
   "metadata": {
    "scrolled": true,
    "tags": []
   },
   "outputs": [],
   "source": [
    "\"\"\" using parallel processing to extract the metadata from the htmls\"\"\"\n",
    "# pool = mp.Pool(processes=10)\n",
    "# pbar = tqdm(htmlchunks)\n",
    "    \n",
    "# for i in range(pbar.total):\n",
    "#     pool.apply_async(read_htmlfiles, args=(htmlchunks[i],metadataoutfile), callback=update)\n",
    "    \n",
    "# pool.close()\n",
    "# pool.join()"
   ]
  },
  {
   "cell_type": "code",
   "execution_count": 2,
   "id": "bd9fd145-f0e2-425c-a14e-d6f3984a0009",
   "metadata": {},
   "outputs": [
    {
     "name": "stdout",
     "output_type": "stream",
     "text": [
      "36499\n",
      "There should be 36499 cases.\n",
      "There are 36499 cases.\n",
      "present    36499\n",
      "Name: missingcases, dtype: int64\n",
      "no_error          36417\n",
      "not_found            36\n",
      "timed_out            32\n",
      "failed_request       12\n",
      "parsing_error         2\n",
      "Name: errtype, dtype: int64\n",
      "44\n"
     ]
    }
   ],
   "source": [
    "metadicts = read_jsoncsv(metadataoutfile)\n",
    "print(len(metadicts))\n",
    "mdf = pd.DataFrame(metadicts)\n",
    "# mdf['tablefileno'] = mdf['cid'].map(dict(zip(df['cid'],df['fileno'])))\n",
    "mdf['caseurl'] = mdf['cid'].map(dict(zip(df['cid'],df['caseurl'])))\n",
    "mdf['file'] = mdf['cid'].map(dict(zip(df['cid'],df['goodcasefiles'])))\n",
    "mdf.replace(r'^\\s*$', np.nan, regex=True,inplace=True)\n",
    "mdf.fillna('missing',inplace=True)\n",
    "print(\"There should be \"+ str(df.shape[0])+\" cases.\")\n",
    "print(\"There are \"+ str(mdf.shape[0])+\" cases.\")\n",
    "\n",
    "df['missingcases'] = np.where(df['cid'].isin(mdf['cid'].tolist()),'present','missing')\n",
    "print(df['missingcases'].value_counts())\n",
    "\n",
    "mdf['errtype'] = mdf['error'].apply(lambda x: get_errortype(x))\n",
    "print(mdf['errtype'].value_counts())\n",
    "# parsing_error cases are in french ['2020canlii122218','2021canlii114717']\n",
    "\n",
    "missing = mdf[mdf['errtype'].isin(['timed_out','failed_request'])]\n",
    "missing = missing.copy()\n",
    "missing['file'] = missing['cid'].apply(lambda x: mainpath + 'data/errorcases/'+x + '.html')\n",
    "caselinkdict = dict(zip(missing['file'],missing['caseurl']))\n",
    "print(len(caselinkdict))"
   ]
  },
  {
   "cell_type": "code",
   "execution_count": null,
   "id": "009b410d-d69e-46e8-8dbc-e89a48d75806",
   "metadata": {
    "scrolled": true,
    "tags": []
   },
   "outputs": [],
   "source": [
    "# settings = initialize_VPN(save=0,area_input=['complete rotation'],skip_settings=1)\n",
    "\n",
    "# rotate_VPN(settings,google_check=1)\n",
    "# get_cases(caselinkdict,settings)\n",
    "# terminate_VPN(settings)"
   ]
  },
  {
   "cell_type": "code",
   "execution_count": null,
   "id": "ac0ef5ba-c16a-4744-a7ec-f3504b994790",
   "metadata": {},
   "outputs": [],
   "source": [
    "# read_htmlfiles(list(caselinkdict.keys()),metadatamissingoutfile)"
   ]
  },
  {
   "cell_type": "code",
   "execution_count": 3,
   "id": "d212ced0-98cb-4238-a1bc-ff41004b3fac",
   "metadata": {},
   "outputs": [
    {
     "name": "stdout",
     "output_type": "stream",
     "text": [
      "44\n",
      "(36499, 13)\n",
      "no_error         36461\n",
      "not_found           36\n",
      "parsing_error        2\n",
      "Name: errtype, dtype: int64\n"
     ]
    }
   ],
   "source": [
    "metadictsmissing = read_jsoncsv(metadatamissingoutfile)\n",
    "print(len(metadictsmissing))\n",
    "mdfm = pd.DataFrame(metadictsmissing)\n",
    "# mdf['tablefileno'] = mdf['cid'].map(dict(zip(df['cid'],df['fileno'])))\n",
    "mdfm['caseurl'] = mdfm['cid'].map(dict(zip(missing['cid'],missing['caseurl'])))\n",
    "mdfm['file'] = mdfm['cid'].map(dict(zip(missing['cid'],missing['file'])))\n",
    "mdfm.replace(r'^\\s*$', np.nan, regex=True,inplace=True)\n",
    "mdfm.fillna('missing',inplace=True)\n",
    "mdfm['errtype'] = mdfm['error'].apply(lambda x: get_errortype(x))\n",
    "metadf = pd.concat([mdfm,mdf[~mdf['errtype'].isin(['timed_out','failed_request'])]])\n",
    "print(metadf.shape)\n",
    "print(metadf['errtype'].value_counts())"
   ]
  },
  {
   "cell_type": "code",
   "execution_count": 4,
   "id": "0b6d4aa9-0263-463a-ab90-dacc41d3e4c5",
   "metadata": {
    "scrolled": true,
    "tags": []
   },
   "outputs": [
    {
     "name": "stdout",
     "output_type": "stream",
     "text": [
      "both         33139\n",
      "webscrape     3295\n",
      "api             65\n",
      "Name: source, dtype: int64\n",
      "\n",
      "errtype        source   \n",
      "no_error       both         33117\n",
      "               webscrape     3293\n",
      "               api             51\n",
      "not_found      both            20\n",
      "               api             14\n",
      "               webscrape        2\n",
      "parsing_error  both             2\n",
      "dtype: int64\n"
     ]
    }
   ],
   "source": [
    "metadf['source'] = metadf['cid'].map(dict(zip(df['cid'],df['source'])))\n",
    "print(metadf['source'].value_counts())\n",
    "print()\n",
    "print(metadf[['errtype','source']].value_counts())\n",
    "# tablecaseidx.csv should be 36,437, -1 for the case from 2005, and -2 for the cases missing from the canlii tables = 36434\n",
    "# (both) 33139 + (webscrape) 3295 = 36434"
   ]
  },
  {
   "cell_type": "code",
   "execution_count": 5,
   "id": "d0fb9f46-eeec-49ee-bed5-1921f234122c",
   "metadata": {
    "scrolled": true,
    "tags": []
   },
   "outputs": [],
   "source": [
    "ldict = {'Central-RO': 'Central_Mississauga', '3 Robert Speck Pkwy': 'Central_Mississauga', 'Central Regional Office': 'Central_Mississauga', 'Eastern-RO': 'Eastern_Ottawa', '255 Albert St': 'Eastern_Ottawa', 'Eastern Regional Office': 'Eastern_Ottawa', 'Head Office': 'HeadOffice_Toronto', '777 Bay St': 'HeadOffice_Toronto', 'Northern-RO': 'Northern_Sudbury', '199 Larch St': 'Northern_Sudbury', 'Northern Regional Office': 'Northern_Sudbury', 'South West-RO': 'SouthWest_London', '150 Dufferin Ave': 'SouthWest_London', 'South West Regional Office': 'SouthWest_London', 'Southern-RO': 'Southern_Hamilton', 'Southern Regional Office': 'Southern_Hamilton', '119 King St': 'Southern_Hamilton', 'Toronto East-RO': 'TOEast', 'Toronto East Regional Office': 'TOEast', '2275 Midland Ave': 'TOEast', 'Toronto North-RO': 'TONorth', 'Toronto North Regional Office': 'TONorth', '47 Sheppard Ave': 'TONorth', 'Toronto South-RO': 'TOSouth', 'Toronto South Regional Office': 'TOSouth', '25 Grosvenor St': 'TOSouth', '15 Grosvenor St': 'TOSouth', '79 St. Clair Ave': 'TOSouth'}\n",
    "\n",
    "ajdf = pd.read_csv(mainpath+'output/annotated_judges.csv',sep='\\t')\n",
    "ajdf = ajdf[ajdf['jnew']!='missing']\n",
    "jdict = dict(zip(ajdf['judge'],ajdf['jnew']))"
   ]
  },
  {
   "cell_type": "code",
   "execution_count": 6,
   "id": "4042bd4b-c929-4d77-b88c-7c82904e1a29",
   "metadata": {},
   "outputs": [],
   "source": [
    "metadf['jltext'] = metadf['cid'] + '_' + metadf['text']"
   ]
  },
  {
   "cell_type": "code",
   "execution_count": 7,
   "id": "6f147287-ff63-471a-aca0-1e40311a3e35",
   "metadata": {},
   "outputs": [
    {
     "name": "stderr",
     "output_type": "stream",
     "text": [
      "  0%|                                                   | 0/365 [00:00<?, ?it/s]"
     ]
    }
   ],
   "source": [
    "textchunks = list(divide_chunks(metadf['jltext'].tolist(),100))\n",
    "pbar = tqdm(textchunks)"
   ]
  },
  {
   "cell_type": "code",
   "execution_count": 8,
   "id": "c1757e6d-581a-438a-bf66-099cd809787f",
   "metadata": {},
   "outputs": [
    {
     "name": "stderr",
     "output_type": "stream",
     "text": [
      " 99%|████████████████████████████████████████▊| 363/365 [00:34<00:00, 17.77it/s]"
     ]
    }
   ],
   "source": [
    "\"\"\" using parallel processing to preprocess the case texts\"\"\"\n",
    "ctresults = process_parallel(textchunks,\"preprocess_list\",ldict,jdict,stopwordslist,pattern,pbar)"
   ]
  },
  {
   "cell_type": "code",
   "execution_count": 9,
   "id": "fb797b07-cab6-4457-98e3-81d321e55471",
   "metadata": {},
   "outputs": [
    {
     "name": "stdout",
     "output_type": "stream",
     "text": [
      "36499\n"
     ]
    },
    {
     "name": "stderr",
     "output_type": "stream",
     "text": [
      "100%|█████████████████████████████████████████| 365/365 [00:50<00:00, 17.77it/s]"
     ]
    },
    {
     "name": "stdout",
     "output_type": "stream",
     "text": [
      "(0, 16)\n"
     ]
    }
   ],
   "source": [
    "ctresults = [x.get() for x in ctresults]\n",
    "ctresults = [item for sublist in ctresults for item in sublist]\n",
    "ctdict = parse_parallelresults(ctresults)\n",
    "print(len(ctdict))\n",
    "metadf['cleantext'] = metadf['cid'].map(ctdict)\n",
    "metadf.replace(r'^\\s*$', np.nan, regex=True,inplace=True)\n",
    "metadf.fillna('missing',inplace=True)\n",
    "print(metadf[metadf['cleantext']=='missing'].shape)"
   ]
  },
  {
   "cell_type": "code",
   "execution_count": 10,
   "id": "56066e7d-28cb-4d95-9151-e8946a7de52c",
   "metadata": {
    "scrolled": true,
    "tags": []
   },
   "outputs": [
    {
     "name": "stderr",
     "output_type": "stream",
     "text": [
      "\n",
      "100%|█████████████████████████████████████████| 365/365 [00:59<00:00,  6.15it/s]\u001b[A\n"
     ]
    }
   ],
   "source": [
    "textchunks = list(divide_chunks(metadf['jltext'].tolist(),100))\n",
    "pbar = tqdm(textchunks)"
   ]
  },
  {
   "cell_type": "code",
   "execution_count": 11,
   "id": "5181c08b-2d77-4ae0-b160-25e5c9036b9e",
   "metadata": {
    "scrolled": true,
    "tags": []
   },
   "outputs": [
    {
     "name": "stderr",
     "output_type": "stream",
     "text": [
      "\n",
      "  0%|                                         | 1/365 [00:12<1:15:35, 12.46s/it]\u001b[A\n",
      "  1%|▏                                          | 2/365 [00:16<47:03,  7.78s/it]\u001b[A\n",
      "  1%|▎                                          | 3/365 [00:17<26:32,  4.40s/it]\u001b[A\n",
      "  1%|▍                                          | 4/365 [00:18<19:32,  3.25s/it]\u001b[A\n",
      "  1%|▌                                          | 5/365 [00:19<14:48,  2.47s/it]\u001b[A\n",
      "  2%|▊                                          | 7/365 [00:21<08:54,  1.49s/it]\u001b[A\n",
      "  2%|▉                                          | 8/365 [00:24<12:14,  2.06s/it]\u001b[A\n",
      "  3%|█▏                                        | 10/365 [00:24<07:24,  1.25s/it]\u001b[A\n",
      "  3%|█▎                                        | 11/365 [00:31<14:36,  2.48s/it]\u001b[A\n",
      "  3%|█▍                                        | 12/365 [00:33<14:19,  2.44s/it]\u001b[A\n",
      "  4%|█▌                                        | 14/365 [00:37<12:17,  2.10s/it]\u001b[A\n",
      "  4%|█▋                                        | 15/365 [00:38<11:19,  1.94s/it]\u001b[A\n",
      "  4%|█▊                                        | 16/365 [00:40<11:10,  1.92s/it]\u001b[A\n",
      "  5%|█▉                                        | 17/365 [00:41<09:25,  1.62s/it]\u001b[A\n",
      "  5%|██                                        | 18/365 [00:43<11:08,  1.93s/it]\u001b[A\n",
      "  5%|██▎                                       | 20/365 [00:45<08:42,  1.51s/it]\u001b[A\n",
      "  6%|██▍                                       | 21/365 [00:49<11:29,  2.01s/it]\u001b[A\n",
      "  6%|██▌                                       | 22/365 [00:49<09:08,  1.60s/it]\u001b[A\n",
      "  7%|██▊                                       | 24/365 [00:52<08:58,  1.58s/it]\u001b[A\n",
      "  7%|██▉                                       | 25/365 [00:53<07:18,  1.29s/it]\u001b[A\n",
      "  7%|██▉                                       | 26/365 [00:54<07:32,  1.34s/it]\u001b[A\n",
      "  8%|███▏                                      | 28/365 [00:55<05:53,  1.05s/it]\u001b[A\n",
      "  8%|███▎                                      | 29/365 [00:56<05:05,  1.10it/s]\u001b[A\n",
      "  8%|███▍                                      | 30/365 [00:57<04:40,  1.19it/s]\u001b[A\n",
      "  8%|███▌                                      | 31/365 [00:58<05:39,  1.02s/it]\u001b[A\n",
      "  9%|███▋                                      | 32/365 [00:59<05:33,  1.00s/it]\u001b[A\n",
      "  9%|███▉                                      | 34/365 [01:00<03:57,  1.39it/s]\u001b[A\n",
      " 10%|████                                      | 35/365 [01:00<04:01,  1.37it/s]\u001b[A\n",
      " 10%|████▎                                     | 37/365 [01:03<05:02,  1.08it/s]\u001b[A\n",
      " 10%|████▎                                     | 38/365 [01:04<05:30,  1.01s/it]\u001b[A\n",
      " 11%|████▍                                     | 39/365 [01:05<04:55,  1.10it/s]\u001b[A\n",
      " 11%|████▌                                     | 40/365 [01:05<04:33,  1.19it/s]\u001b[A\n",
      " 11%|████▋                                     | 41/365 [01:06<03:47,  1.43it/s]\u001b[A\n",
      " 12%|████▊                                     | 42/365 [01:07<04:18,  1.25it/s]\u001b[A\n",
      " 12%|████▉                                     | 43/365 [01:07<03:20,  1.61it/s]\u001b[A\n",
      " 12%|█████                                     | 44/365 [01:08<03:28,  1.54it/s]\u001b[A\n",
      " 12%|█████▏                                    | 45/365 [01:08<03:05,  1.72it/s]\u001b[A\n",
      " 13%|█████▎                                    | 46/365 [01:08<02:35,  2.05it/s]\u001b[A\n",
      " 13%|█████▍                                    | 47/365 [01:12<06:50,  1.29s/it]\u001b[A\n",
      " 13%|█████▌                                    | 48/365 [01:13<07:00,  1.33s/it]\u001b[A\n",
      " 13%|█████▋                                    | 49/365 [01:14<05:56,  1.13s/it]\u001b[A\n",
      " 14%|█████▊                                    | 50/365 [01:14<04:25,  1.19it/s]\u001b[A\n",
      " 14%|█████▊                                    | 51/365 [01:15<04:18,  1.22it/s]\u001b[A\n",
      " 14%|█████▉                                    | 52/365 [01:15<03:48,  1.37it/s]\u001b[A\n",
      " 15%|██████                                    | 53/365 [01:16<04:32,  1.15it/s]\u001b[A\n",
      " 15%|██████▏                                   | 54/365 [01:17<03:56,  1.31it/s]\u001b[A\n",
      " 15%|██████▎                                   | 55/365 [01:18<03:55,  1.31it/s]\u001b[A\n",
      " 15%|██████▍                                   | 56/365 [01:18<03:20,  1.54it/s]\u001b[A\n",
      " 16%|██████▌                                   | 57/365 [01:20<06:05,  1.19s/it]\u001b[A\n",
      " 16%|██████▋                                   | 58/365 [01:21<05:29,  1.07s/it]\u001b[A\n",
      " 16%|██████▊                                   | 59/365 [01:22<05:07,  1.00s/it]\u001b[A\n",
      " 16%|██████▉                                   | 60/365 [01:22<03:50,  1.33it/s]\u001b[A\n",
      " 17%|███████                                   | 61/365 [01:23<03:05,  1.64it/s]\u001b[A\n",
      " 17%|███████▏                                  | 62/365 [01:24<05:03,  1.00s/it]\u001b[A\n",
      " 17%|███████▏                                  | 63/365 [01:26<05:25,  1.08s/it]\u001b[A\n",
      " 18%|███████▎                                  | 64/365 [01:27<05:32,  1.11s/it]\u001b[A\n",
      " 18%|███████▍                                  | 65/365 [01:27<04:10,  1.20it/s]\u001b[A\n",
      " 18%|███████▌                                  | 66/365 [01:28<03:57,  1.26it/s]\u001b[A\n",
      " 18%|███████▋                                  | 67/365 [01:28<03:48,  1.31it/s]\u001b[A\n",
      " 19%|███████▊                                  | 68/365 [01:30<04:16,  1.16it/s]\u001b[A\n",
      " 19%|███████▉                                  | 69/365 [01:30<03:18,  1.49it/s]\u001b[A\n",
      " 19%|████████                                  | 70/365 [01:30<02:30,  1.96it/s]\u001b[A\n",
      " 19%|████████▏                                 | 71/365 [01:32<05:11,  1.06s/it]\u001b[A\n",
      " 20%|████████▎                                 | 72/365 [01:33<04:33,  1.07it/s]\u001b[A\n",
      " 20%|████████▍                                 | 73/365 [01:34<04:37,  1.05it/s]\u001b[A\n",
      " 20%|████████▌                                 | 74/365 [01:35<05:31,  1.14s/it]\u001b[A\n",
      " 21%|████████▋                                 | 75/365 [01:36<04:50,  1.00s/it]\u001b[A\n",
      " 21%|████████▊                                 | 77/365 [01:36<02:52,  1.67it/s]\u001b[A\n",
      " 21%|████████▉                                 | 78/365 [01:39<05:04,  1.06s/it]\u001b[A\n",
      " 22%|█████████                                 | 79/365 [01:39<04:10,  1.14it/s]\u001b[A\n",
      " 22%|█████████▎                                | 81/365 [01:43<05:58,  1.26s/it]\u001b[A\n",
      " 22%|█████████▍                                | 82/365 [01:43<05:07,  1.09s/it]\u001b[A\n",
      " 23%|█████████▌                                | 83/365 [01:45<05:53,  1.25s/it]\u001b[A\n",
      " 23%|█████████▋                                | 84/365 [01:45<04:41,  1.00s/it]\u001b[A\n",
      " 23%|█████████▊                                | 85/365 [01:46<03:56,  1.19it/s]\u001b[A\n",
      " 24%|█████████▉                                | 86/365 [01:49<07:40,  1.65s/it]\u001b[A\n",
      " 24%|██████████                                | 87/365 [01:50<05:49,  1.26s/it]\u001b[A\n",
      " 24%|██████████▏                               | 88/365 [01:50<04:15,  1.08it/s]\u001b[A\n",
      " 24%|██████████▏                               | 89/365 [01:52<05:53,  1.28s/it]\u001b[A\n",
      " 25%|██████████▎                               | 90/365 [01:53<04:54,  1.07s/it]\u001b[A\n",
      " 25%|██████████▍                               | 91/365 [01:53<04:32,  1.00it/s]\u001b[A\n",
      " 25%|██████████▌                               | 92/365 [01:54<03:38,  1.25it/s]\u001b[A\n",
      " 25%|██████████▋                               | 93/365 [02:02<13:12,  2.91s/it]\u001b[A\n",
      " 26%|██████████▊                               | 94/365 [02:02<10:06,  2.24s/it]\u001b[A\n",
      " 26%|██████████▉                               | 95/365 [02:04<09:34,  2.13s/it]\u001b[A\n",
      " 26%|███████████                               | 96/365 [02:06<09:38,  2.15s/it]\u001b[A\n",
      " 27%|███████████▏                              | 97/365 [02:07<07:08,  1.60s/it]\u001b[A\n",
      " 27%|███████████▎                              | 98/365 [02:10<10:02,  2.26s/it]\u001b[A\n",
      " 27%|███████████▍                              | 99/365 [02:12<08:41,  1.96s/it]\u001b[A\n",
      " 27%|███████████▏                             | 100/365 [02:12<07:02,  1.60s/it]\u001b[A\n",
      " 28%|███████████▎                             | 101/365 [02:13<05:33,  1.26s/it]\u001b[A\n",
      " 28%|███████████▍                             | 102/365 [02:14<05:19,  1.22s/it]\u001b[A\n",
      " 28%|███████████▌                             | 103/365 [02:23<16:00,  3.67s/it]\u001b[A\n",
      " 28%|███████████▋                             | 104/365 [02:24<11:23,  2.62s/it]\u001b[A\n",
      " 29%|███████████▉                             | 106/365 [02:25<07:36,  1.76s/it]\u001b[A\n",
      " 29%|████████████                             | 107/365 [02:28<09:07,  2.12s/it]\u001b[A\n",
      " 30%|████████████▏                            | 108/365 [02:28<06:51,  1.60s/it]\u001b[A\n",
      " 30%|████████████▏                            | 109/365 [02:32<08:30,  1.99s/it]\u001b[A\n",
      " 30%|████████████▍                            | 111/365 [02:32<04:54,  1.16s/it]\u001b[A\n",
      " 31%|████████████▌                            | 112/365 [02:32<04:00,  1.05it/s]\u001b[A\n",
      " 31%|████████████▋                            | 113/365 [02:42<13:42,  3.27s/it]\u001b[A\n",
      " 31%|████████████▊                            | 114/365 [02:43<10:57,  2.62s/it]\u001b[A\n",
      " 32%|████████████▉                            | 115/365 [02:44<09:16,  2.23s/it]\u001b[A\n",
      " 32%|█████████████                            | 116/365 [02:45<07:30,  1.81s/it]\u001b[A\n",
      " 32%|█████████████▏                           | 117/365 [02:45<05:45,  1.40s/it]\u001b[A\n",
      " 32%|█████████████▎                           | 118/365 [02:48<07:17,  1.77s/it]\u001b[A\n",
      " 33%|█████████████▎                           | 119/365 [02:50<07:34,  1.85s/it]\u001b[A\n",
      " 33%|█████████████▍                           | 120/365 [02:52<08:01,  1.97s/it]\u001b[A\n",
      " 33%|█████████████▌                           | 121/365 [02:53<06:09,  1.51s/it]\u001b[A\n",
      " 33%|█████████████▋                           | 122/365 [02:56<07:56,  1.96s/it]\u001b[A\n",
      " 34%|█████████████▊                           | 123/365 [02:59<09:05,  2.26s/it]\u001b[A\n",
      " 34%|█████████████▉                           | 124/365 [02:59<06:35,  1.64s/it]\u001b[A\n",
      " 34%|██████████████                           | 125/365 [02:59<05:23,  1.35s/it]\u001b[A\n",
      " 35%|██████████████▏                          | 126/365 [03:00<04:28,  1.12s/it]\u001b[A\n",
      " 35%|██████████████▍                          | 128/365 [03:01<02:52,  1.38it/s]\u001b[A\n",
      " 36%|██████████████▌                          | 130/365 [03:06<06:17,  1.60s/it]\u001b[A\n",
      " 36%|██████████████▋                          | 131/365 [03:07<05:41,  1.46s/it]\u001b[A\n",
      " 36%|██████████████▉                          | 133/365 [03:08<04:08,  1.07s/it]\u001b[A\n",
      " 37%|███████████████                          | 134/365 [03:09<03:43,  1.03it/s]\u001b[A\n",
      " 37%|███████████████▏                         | 135/365 [03:10<04:06,  1.07s/it]\u001b[A\n",
      " 37%|███████████████▎                         | 136/365 [03:11<03:30,  1.09it/s]\u001b[A\n",
      " 38%|███████████████▍                         | 137/365 [03:12<03:22,  1.13it/s]\u001b[A\n",
      " 38%|███████████████▌                         | 138/365 [03:12<03:13,  1.17it/s]\u001b[A\n",
      " 38%|███████████████▌                         | 139/365 [03:13<02:44,  1.38it/s]\u001b[A\n",
      " 38%|███████████████▋                         | 140/365 [03:15<04:10,  1.11s/it]\u001b[A\n",
      " 39%|███████████████▊                         | 141/365 [03:15<03:31,  1.06it/s]\u001b[A\n",
      " 39%|███████████████▉                         | 142/365 [03:17<04:10,  1.12s/it]\u001b[A\n",
      " 39%|████████████████                         | 143/365 [03:18<04:18,  1.16s/it]\u001b[A\n",
      " 40%|████████████████▎                        | 145/365 [03:19<03:12,  1.14it/s]\u001b[A\n",
      " 40%|████████████████▍                        | 146/365 [03:20<02:51,  1.27it/s]\u001b[A\n",
      " 40%|████████████████▌                        | 147/365 [03:20<02:21,  1.55it/s]\u001b[A\n",
      " 41%|████████████████▌                        | 148/365 [03:21<03:10,  1.14it/s]\u001b[A\n",
      " 41%|████████████████▋                        | 149/365 [03:23<03:29,  1.03it/s]\u001b[A\n",
      " 41%|████████████████▊                        | 150/365 [03:23<02:36,  1.37it/s]\u001b[A\n",
      " 42%|█████████████████                        | 152/365 [03:24<02:05,  1.70it/s]\u001b[A\n",
      " 42%|█████████████████▏                       | 153/365 [03:24<02:17,  1.54it/s]\u001b[A\n",
      " 42%|█████████████████▎                       | 154/365 [03:25<02:26,  1.44it/s]\u001b[A\n",
      " 42%|█████████████████▍                       | 155/365 [03:26<02:47,  1.25it/s]\u001b[A\n",
      " 43%|█████████████████▌                       | 156/365 [03:27<02:27,  1.41it/s]\u001b[A\n",
      " 43%|█████████████████▋                       | 157/365 [03:29<03:39,  1.06s/it]\u001b[A\n",
      " 43%|█████████████████▋                       | 158/365 [03:29<03:16,  1.06it/s]\u001b[A\n",
      " 44%|█████████████████▊                       | 159/365 [03:30<02:29,  1.38it/s]\u001b[A\n",
      " 44%|█████████████████▉                       | 160/365 [03:30<02:11,  1.56it/s]\u001b[A\n",
      " 44%|██████████████████                       | 161/365 [03:31<02:23,  1.42it/s]\u001b[A\n",
      " 44%|██████████████████▏                      | 162/365 [03:31<01:54,  1.77it/s]\u001b[A\n",
      " 45%|██████████████████▎                      | 163/365 [03:32<02:24,  1.40it/s]\u001b[A\n",
      " 45%|██████████████████▍                      | 164/365 [03:33<02:04,  1.61it/s]\u001b[A\n",
      " 45%|██████████████████▌                      | 165/365 [03:35<03:22,  1.01s/it]\u001b[A\n",
      " 45%|██████████████████▋                      | 166/365 [03:35<02:42,  1.22it/s]\u001b[A\n",
      " 46%|██████████████████▊                      | 167/365 [03:37<03:28,  1.05s/it]\u001b[A\n",
      " 46%|██████████████████▉                      | 169/365 [03:37<02:24,  1.36it/s]\u001b[A\n",
      " 47%|███████████████████                      | 170/365 [03:40<04:08,  1.27s/it]\u001b[A\n",
      " 47%|███████████████████▎                     | 172/365 [03:41<02:46,  1.16it/s]\u001b[A\n",
      " 47%|███████████████████▍                     | 173/365 [03:42<02:47,  1.14it/s]\u001b[A\n",
      " 48%|███████████████████▌                     | 174/365 [03:42<02:13,  1.43it/s]\u001b[A\n",
      " 48%|███████████████████▋                     | 175/365 [03:43<02:25,  1.30it/s]\u001b[A\n",
      " 48%|███████████████████▊                     | 176/365 [03:43<02:02,  1.54it/s]\u001b[A\n",
      " 48%|███████████████████▉                     | 177/365 [03:43<01:38,  1.91it/s]\u001b[A\n",
      " 49%|███████████████████▉                     | 178/365 [03:45<02:21,  1.33it/s]\u001b[A\n",
      " 49%|████████████████████                     | 179/365 [03:47<03:40,  1.19s/it]\u001b[A\n",
      " 49%|████████████████████▏                    | 180/365 [03:49<04:34,  1.49s/it]\u001b[A\n",
      " 50%|████████████████████▎                    | 181/365 [03:50<04:01,  1.32s/it]\u001b[A\n",
      " 50%|████████████████████▍                    | 182/365 [03:50<03:01,  1.01it/s]\u001b[A\n",
      " 50%|████████████████████▋                    | 184/365 [03:51<01:58,  1.53it/s]\u001b[A\n",
      " 51%|████████████████████▊                    | 185/365 [03:51<01:52,  1.60it/s]\u001b[A\n",
      " 51%|████████████████████▉                    | 186/365 [03:53<03:03,  1.03s/it]\u001b[A\n",
      " 51%|█████████████████████                    | 187/365 [03:55<03:52,  1.30s/it]\u001b[A\n",
      " 52%|█████████████████████                    | 188/365 [03:59<05:22,  1.82s/it]\u001b[A\n",
      " 52%|█████████████████████▏                   | 189/365 [04:02<06:33,  2.23s/it]\u001b[A\n",
      " 52%|█████████████████████▎                   | 190/365 [04:02<04:56,  1.69s/it]\u001b[A\n",
      " 52%|█████████████████████▍                   | 191/365 [04:04<04:31,  1.56s/it]\u001b[A\n",
      " 53%|█████████████████████▌                   | 192/365 [04:04<03:15,  1.13s/it]\u001b[A\n",
      " 53%|█████████████████████▊                   | 194/365 [04:05<02:23,  1.19it/s]\u001b[A\n",
      " 53%|█████████████████████▉                   | 195/365 [04:06<03:03,  1.08s/it]\u001b[A\n",
      " 54%|██████████████████████                   | 196/365 [04:07<02:22,  1.18it/s]\u001b[A\n",
      " 54%|██████████████████████▏                  | 197/365 [04:10<03:59,  1.42s/it]\u001b[A\n",
      " 54%|██████████████████████▏                  | 198/365 [04:11<04:11,  1.51s/it]\u001b[A\n",
      " 55%|██████████████████████▎                  | 199/365 [04:14<05:18,  1.92s/it]\u001b[A\n",
      " 55%|██████████████████████▍                  | 200/365 [04:15<04:26,  1.61s/it]\u001b[A\n",
      " 55%|██████████████████████▌                  | 201/365 [04:16<03:38,  1.33s/it]\u001b[A\n",
      " 55%|██████████████████████▋                  | 202/365 [04:16<02:58,  1.10s/it]\u001b[A\n",
      " 56%|██████████████████████▊                  | 203/365 [04:17<02:16,  1.19it/s]\u001b[A\n",
      " 56%|██████████████████████▉                  | 204/365 [04:17<01:43,  1.56it/s]\u001b[A\n",
      " 56%|███████████████████████                  | 205/365 [04:18<02:15,  1.18it/s]\u001b[A\n",
      " 56%|███████████████████████▏                 | 206/365 [04:21<03:33,  1.34s/it]\u001b[A\n",
      " 57%|███████████████████████▎                 | 207/365 [04:21<02:50,  1.08s/it]\u001b[A\n",
      " 57%|███████████████████████▎                 | 208/365 [04:22<02:42,  1.04s/it]\u001b[A\n",
      " 57%|███████████████████████▍                 | 209/365 [04:26<04:52,  1.88s/it]\u001b[A\n",
      " 58%|███████████████████████▌                 | 210/365 [04:28<05:21,  2.08s/it]\u001b[A\n",
      " 58%|███████████████████████▋                 | 211/365 [04:30<05:04,  1.98s/it]\u001b[A\n",
      " 58%|███████████████████████▊                 | 212/365 [04:32<04:43,  1.85s/it]\u001b[A\n",
      " 58%|███████████████████████▉                 | 213/365 [04:37<07:05,  2.80s/it]\u001b[A\n",
      " 59%|████████████████████████                 | 214/365 [04:38<05:44,  2.28s/it]\u001b[A\n",
      " 59%|████████████████████████▏                | 215/365 [04:39<04:44,  1.90s/it]\u001b[A\n",
      " 59%|████████████████████████▎                | 216/365 [04:39<03:24,  1.37s/it]\u001b[A\n",
      " 59%|████████████████████████▍                | 217/365 [04:39<02:32,  1.03s/it]\u001b[A\n",
      " 60%|████████████████████████▍                | 218/365 [04:40<02:26,  1.01it/s]\u001b[A\n",
      " 60%|████████████████████████▌                | 219/365 [04:44<04:46,  1.97s/it]\u001b[A\n",
      " 60%|████████████████████████▋                | 220/365 [04:46<04:29,  1.86s/it]\u001b[A\n",
      " 61%|████████████████████████▊                | 221/365 [04:47<03:58,  1.65s/it]\u001b[A\n",
      " 61%|████████████████████████▉                | 222/365 [04:50<05:03,  2.12s/it]\u001b[A\n",
      " 61%|█████████████████████████                | 223/365 [04:52<05:07,  2.16s/it]\u001b[A\n",
      " 61%|█████████████████████████▏               | 224/365 [04:53<03:53,  1.66s/it]\u001b[A\n",
      " 62%|█████████████████████████▎               | 225/365 [04:56<05:04,  2.18s/it]\u001b[A\n",
      " 62%|█████████████████████████▍               | 226/365 [04:57<03:41,  1.60s/it]\u001b[A\n",
      " 62%|█████████████████████████▍               | 227/365 [05:00<05:11,  2.25s/it]\u001b[A\n",
      " 63%|█████████████████████████▋               | 229/365 [05:01<02:49,  1.25s/it]\u001b[A\n",
      " 63%|█████████████████████████▊               | 230/365 [05:02<02:55,  1.30s/it]\u001b[A\n",
      " 63%|█████████████████████████▉               | 231/365 [05:04<03:09,  1.41s/it]\u001b[A\n",
      " 64%|██████████████████████████               | 232/365 [05:05<03:18,  1.49s/it]\u001b[A\n",
      " 64%|██████████████████████████▏              | 233/365 [05:07<03:16,  1.49s/it]\u001b[A\n",
      " 64%|██████████████████████████▎              | 234/365 [05:08<02:53,  1.33s/it]\u001b[A\n",
      " 64%|██████████████████████████▍              | 235/365 [05:09<02:50,  1.31s/it]\u001b[A\n",
      " 65%|██████████████████████████▌              | 236/365 [05:09<02:06,  1.02it/s]\u001b[A\n",
      " 65%|██████████████████████████▌              | 237/365 [05:10<02:01,  1.05it/s]\u001b[A\n",
      " 65%|██████████████████████████▋              | 238/365 [05:11<01:44,  1.22it/s]\u001b[A\n",
      " 65%|██████████████████████████▊              | 239/365 [05:12<02:10,  1.04s/it]\u001b[A\n",
      " 66%|██████████████████████████▉              | 240/365 [05:13<01:57,  1.07it/s]\u001b[A\n",
      " 66%|███████████████████████████              | 241/365 [05:14<02:13,  1.07s/it]\u001b[A\n",
      " 66%|███████████████████████████▏             | 242/365 [05:15<01:47,  1.15it/s]\u001b[A\n",
      " 67%|███████████████████████████▎             | 243/365 [05:17<02:19,  1.15s/it]\u001b[A\n",
      " 67%|███████████████████████████▍             | 244/365 [05:18<02:19,  1.15s/it]\u001b[A\n",
      " 67%|███████████████████████████▌             | 245/365 [05:19<02:27,  1.23s/it]\u001b[A\n",
      " 67%|███████████████████████████▋             | 246/365 [05:19<01:51,  1.07it/s]\u001b[A\n",
      " 68%|███████████████████████████▋             | 247/365 [05:20<01:24,  1.40it/s]\u001b[A\n",
      " 68%|███████████████████████████▉             | 249/365 [05:20<01:03,  1.84it/s]\u001b[A\n",
      " 68%|████████████████████████████             | 250/365 [05:23<02:02,  1.07s/it]\u001b[A\n",
      " 69%|████████████████████████████▏            | 251/365 [05:24<01:57,  1.03s/it]\u001b[A\n",
      " 69%|████████████████████████████▎            | 252/365 [05:24<01:28,  1.28it/s]\u001b[A\n",
      " 69%|████████████████████████████▍            | 253/365 [05:24<01:18,  1.42it/s]\u001b[A\n",
      " 70%|████████████████████████████▌            | 254/365 [05:26<01:41,  1.10it/s]\u001b[A\n",
      " 70%|████████████████████████████▋            | 255/365 [05:26<01:15,  1.45it/s]\u001b[A\n",
      " 70%|████████████████████████████▊            | 256/365 [05:29<02:14,  1.24s/it]\u001b[A\n",
      " 70%|████████████████████████████▊            | 257/365 [05:29<01:40,  1.07it/s]\u001b[A\n",
      " 71%|████████████████████████████▉            | 258/365 [05:30<01:51,  1.05s/it]\u001b[A\n",
      " 71%|█████████████████████████████            | 259/365 [05:30<01:22,  1.28it/s]\u001b[A\n",
      " 71%|█████████████████████████████▏           | 260/365 [05:32<01:38,  1.06it/s]\u001b[A\n",
      " 72%|█████████████████████████████▎           | 261/365 [05:32<01:27,  1.19it/s]\u001b[A\n",
      " 72%|█████████████████████████████▍           | 262/365 [05:32<01:08,  1.51it/s]\u001b[A\n",
      " 72%|█████████████████████████████▌           | 263/365 [05:33<01:16,  1.33it/s]\u001b[A\n",
      " 72%|█████████████████████████████▋           | 264/365 [05:34<01:05,  1.54it/s]\u001b[A\n",
      " 73%|█████████████████████████████▊           | 265/365 [05:35<01:07,  1.47it/s]\u001b[A\n",
      " 73%|█████████████████████████████▉           | 266/365 [05:39<02:45,  1.68s/it]\u001b[A\n",
      " 73%|██████████████████████████████           | 268/365 [05:39<01:39,  1.02s/it]\u001b[A\n",
      " 74%|██████████████████████████████▎          | 270/365 [05:40<01:15,  1.26it/s]\u001b[A\n",
      " 74%|██████████████████████████████▍          | 271/365 [05:41<01:24,  1.12it/s]\u001b[A\n",
      " 75%|██████████████████████████████▌          | 272/365 [05:41<01:06,  1.39it/s]\u001b[A\n",
      " 75%|██████████████████████████████▋          | 273/365 [05:42<01:11,  1.29it/s]\u001b[A\n",
      " 75%|██████████████████████████████▊          | 274/365 [05:43<01:10,  1.30it/s]\u001b[A\n",
      " 75%|██████████████████████████████▉          | 275/365 [05:45<01:36,  1.07s/it]\u001b[A\n",
      " 76%|███████████████████████████████          | 276/365 [05:46<01:22,  1.07it/s]\u001b[A\n",
      " 76%|███████████████████████████████          | 277/365 [05:47<01:34,  1.07s/it]\u001b[A\n",
      " 76%|███████████████████████████████▏         | 278/365 [05:47<01:17,  1.12it/s]\u001b[A\n",
      " 76%|███████████████████████████████▎         | 279/365 [05:48<01:01,  1.39it/s]\u001b[A\n",
      " 77%|███████████████████████████████▍         | 280/365 [05:48<00:57,  1.47it/s]\u001b[A\n",
      " 77%|███████████████████████████████▌         | 281/365 [05:50<01:14,  1.13it/s]\u001b[A\n",
      " 78%|███████████████████████████████▊         | 283/365 [05:51<01:04,  1.27it/s]\u001b[A\n",
      " 78%|███████████████████████████████▉         | 284/365 [05:51<00:57,  1.41it/s]\u001b[A\n",
      " 78%|████████████████████████████████         | 285/365 [05:53<01:07,  1.18it/s]\u001b[A\n",
      " 78%|████████████████████████████████▏        | 286/365 [05:55<01:30,  1.14s/it]\u001b[A\n",
      " 79%|████████████████████████████████▏        | 287/365 [05:55<01:11,  1.09it/s]\u001b[A\n",
      " 79%|████████████████████████████████▎        | 288/365 [05:55<00:56,  1.36it/s]\u001b[A\n",
      " 79%|████████████████████████████████▍        | 289/365 [05:57<01:08,  1.11it/s]\u001b[A\n",
      " 79%|████████████████████████████████▌        | 290/365 [05:57<00:58,  1.28it/s]\u001b[A\n",
      " 80%|████████████████████████████████▋        | 291/365 [05:59<01:18,  1.07s/it]\u001b[A\n",
      " 80%|████████████████████████████████▉        | 293/365 [05:59<00:49,  1.46it/s]\u001b[A\n",
      " 81%|█████████████████████████████████        | 294/365 [06:01<01:01,  1.15it/s]\u001b[A\n",
      " 81%|█████████████████████████████████▏       | 295/365 [06:01<00:49,  1.41it/s]\u001b[A\n",
      " 81%|█████████████████████████████████▏       | 296/365 [06:03<01:09,  1.01s/it]\u001b[A\n",
      " 81%|█████████████████████████████████▎       | 297/365 [06:03<00:58,  1.16it/s]\u001b[A\n",
      " 82%|█████████████████████████████████▍       | 298/365 [06:05<01:16,  1.14s/it]\u001b[A\n",
      " 82%|█████████████████████████████████▌       | 299/365 [06:06<01:14,  1.13s/it]\u001b[A\n",
      " 82%|█████████████████████████████████▋       | 300/365 [06:07<01:08,  1.05s/it]\u001b[A\n",
      " 82%|█████████████████████████████████▊       | 301/365 [06:07<00:54,  1.18it/s]\u001b[A\n",
      " 83%|█████████████████████████████████▉       | 302/365 [06:09<01:14,  1.18s/it]\u001b[A\n",
      " 83%|██████████████████████████████████▏      | 304/365 [06:12<01:10,  1.15s/it]\u001b[A\n",
      " 84%|██████████████████████████████████▎      | 305/365 [06:12<00:59,  1.01it/s]\u001b[A\n",
      " 84%|██████████████████████████████████▎      | 306/365 [06:12<00:46,  1.27it/s]\u001b[A\n",
      " 84%|██████████████████████████████████▍      | 307/365 [06:13<00:51,  1.13it/s]\u001b[A\n",
      " 84%|██████████████████████████████████▌      | 308/365 [06:14<00:51,  1.11it/s]\u001b[A\n",
      " 85%|██████████████████████████████████▋      | 309/365 [06:15<00:46,  1.21it/s]\u001b[A\n",
      " 85%|██████████████████████████████████▊      | 310/365 [06:16<00:45,  1.20it/s]\u001b[A\n",
      " 85%|██████████████████████████████████▉      | 311/365 [06:16<00:38,  1.41it/s]\u001b[A\n",
      " 85%|███████████████████████████████████      | 312/365 [06:19<01:12,  1.37s/it]\u001b[A\n",
      " 86%|███████████████████████████████████▏     | 313/365 [06:21<01:09,  1.34s/it]\u001b[A\n",
      " 86%|███████████████████████████████████▎     | 314/365 [06:22<01:06,  1.30s/it]\u001b[A\n",
      " 86%|███████████████████████████████████▍     | 315/365 [06:22<00:52,  1.05s/it]\u001b[A\n",
      " 87%|███████████████████████████████████▍     | 316/365 [06:23<00:44,  1.11it/s]\u001b[A\n",
      " 87%|███████████████████████████████████▌     | 317/365 [06:23<00:33,  1.45it/s]\u001b[A\n",
      " 87%|███████████████████████████████████▋     | 318/365 [06:24<00:32,  1.43it/s]\u001b[A\n",
      " 87%|███████████████████████████████████▊     | 319/365 [06:24<00:28,  1.63it/s]\u001b[A\n",
      " 88%|████████████████████████████████████     | 321/365 [06:25<00:23,  1.84it/s]\u001b[A\n",
      " 88%|████████████████████████████████████▏    | 322/365 [06:30<01:06,  1.55s/it]\u001b[A\n",
      " 88%|████████████████████████████████████▎    | 323/365 [06:30<00:52,  1.25s/it]\u001b[A\n",
      " 89%|████████████████████████████████████▍    | 324/365 [06:31<00:44,  1.09s/it]\u001b[A\n",
      " 89%|████████████████████████████████████▌    | 325/365 [06:31<00:36,  1.09it/s]\u001b[A\n",
      " 89%|████████████████████████████████████▌    | 326/365 [06:31<00:29,  1.34it/s]\u001b[A\n",
      " 90%|████████████████████████████████████▋    | 327/365 [06:32<00:25,  1.49it/s]\u001b[A\n",
      " 90%|████████████████████████████████████▊    | 328/365 [06:33<00:27,  1.37it/s]\u001b[A\n",
      " 90%|████████████████████████████████████▉    | 329/365 [06:34<00:27,  1.30it/s]\u001b[A\n",
      " 90%|█████████████████████████████████████    | 330/365 [06:34<00:22,  1.57it/s]\u001b[A\n",
      " 91%|█████████████████████████████████████▏   | 331/365 [06:36<00:36,  1.06s/it]\u001b[A\n",
      " 91%|█████████████████████████████████████▎   | 332/365 [06:39<00:56,  1.71s/it]\u001b[A\n",
      " 91%|█████████████████████████████████████▍   | 333/365 [06:40<00:41,  1.30s/it]\u001b[A\n",
      " 92%|█████████████████████████████████████▋   | 335/365 [06:40<00:25,  1.16it/s]\u001b[A\n",
      " 92%|█████████████████████████████████████▋   | 336/365 [06:42<00:29,  1.02s/it]\u001b[A\n",
      " 92%|█████████████████████████████████████▊   | 337/365 [06:43<00:27,  1.01it/s]\u001b[A\n",
      " 93%|█████████████████████████████████████▉   | 338/365 [06:43<00:20,  1.34it/s]\u001b[A\n",
      " 93%|██████████████████████████████████████   | 339/365 [06:43<00:16,  1.62it/s]\u001b[A\n",
      " 93%|██████████████████████████████████████▏  | 340/365 [06:44<00:15,  1.63it/s]\u001b[A\n",
      " 93%|██████████████████████████████████████▎  | 341/365 [06:45<00:21,  1.14it/s]\u001b[A\n",
      " 94%|██████████████████████████████████████▍  | 342/365 [06:48<00:34,  1.51s/it]\u001b[A\n",
      " 94%|██████████████████████████████████████▌  | 343/365 [06:48<00:24,  1.10s/it]\u001b[A\n",
      " 94%|██████████████████████████████████████▋  | 344/365 [06:49<00:18,  1.14it/s]\u001b[A\n",
      " 95%|██████████████████████████████████████▊  | 345/365 [06:50<00:16,  1.18it/s]\u001b[A\n",
      " 95%|██████████████████████████████████████▊  | 346/365 [06:50<00:12,  1.56it/s]\u001b[A\n",
      " 95%|██████████████████████████████████████▉  | 347/365 [06:50<00:10,  1.74it/s]\u001b[A\n",
      " 95%|███████████████████████████████████████  | 348/365 [06:51<00:11,  1.43it/s]\u001b[A\n",
      " 96%|███████████████████████████████████████▏ | 349/365 [06:52<00:13,  1.22it/s]\u001b[A\n",
      " 96%|███████████████████████████████████████▎ | 350/365 [06:52<00:09,  1.58it/s]\u001b[A\n",
      " 96%|███████████████████████████████████████▍ | 351/365 [06:54<00:11,  1.22it/s]\u001b[A\n",
      " 96%|███████████████████████████████████████▌ | 352/365 [06:56<00:15,  1.21s/it]\u001b[A\n",
      " 97%|███████████████████████████████████████▊ | 354/365 [06:57<00:10,  1.04it/s]\u001b[A\n",
      " 97%|███████████████████████████████████████▉ | 355/365 [06:58<00:08,  1.21it/s]\u001b[A\n",
      " 98%|███████████████████████████████████████▉ | 356/365 [06:58<00:06,  1.38it/s]\u001b[A\n",
      " 98%|████████████████████████████████████████ | 357/365 [06:59<00:05,  1.45it/s]\u001b[A\n",
      " 98%|████████████████████████████████████████▏| 358/365 [07:01<00:08,  1.18s/it]\u001b[A\n",
      " 98%|████████████████████████████████████████▎| 359/365 [07:02<00:06,  1.12s/it]\u001b[A\n",
      " 99%|████████████████████████████████████████▍| 360/365 [07:02<00:04,  1.12it/s]\u001b[A\n",
      " 99%|████████████████████████████████████████▌| 361/365 [07:03<00:03,  1.28it/s]\u001b[A\n",
      " 99%|████████████████████████████████████████▋| 362/365 [07:03<00:01,  1.60it/s]\u001b[A\n",
      " 99%|████████████████████████████████████████▊| 363/365 [07:03<00:01,  1.83it/s]\u001b[A\n",
      "100%|████████████████████████████████████████▉| 364/365 [07:04<00:00,  1.58it/s]\u001b[A\n",
      "100%|█████████████████████████████████████████| 365/365 [07:05<00:00,  1.73it/s]\u001b[A"
     ]
    },
    {
     "name": "stdout",
     "output_type": "stream",
     "text": [
      "36499\n"
     ]
    }
   ],
   "source": [
    "\"\"\" using parallel processing to extract judge names and locations\"\"\"\n",
    "jlresults = process_parallel(textchunks,\"get_cleanjudloc\",ldict,jdict,stopwordslist,pattern,pbar)\n",
    "jlresults = [x.get() for x in jlresults]\n",
    "jlresults = [item for sublist in jlresults for item in sublist]\n",
    "jldict = parse_parallelresults(jlresults)\n",
    "print(len(jldict))"
   ]
  },
  {
   "cell_type": "code",
   "execution_count": 13,
   "id": "0638355e-72c9-4885-a940-2411f5a36030",
   "metadata": {
    "scrolled": true,
    "tags": []
   },
   "outputs": [
    {
     "name": "stdout",
     "output_type": "stream",
     "text": [
      "(6261, 17)\n",
      "(3487, 17)\n"
     ]
    }
   ],
   "source": [
    "metadf['judgeloc'] = metadf['cid'].map(jldict)\n",
    "metadf.replace(r'^\\s*$', np.nan, regex=True,inplace=True)\n",
    "metadf['judgeloc'].fillna('',inplace=True)\n",
    "metadf['member'] = metadf['judgeloc'].apply(lambda x: '_'.join([i for i in x.split('|') if i not in list(ldict.values())]))\n",
    "metadf['loc'] = metadf['judgeloc'].apply(lambda x: '_'.join([i for i in x.split('|') if i in list(ldict.values())]))\n",
    "metadf.replace(r'^\\s*$', np.nan, regex=True,inplace=True)\n",
    "metadf.fillna('missing',inplace=True)\n",
    "print(metadf[metadf['member']=='missing'].shape)\n",
    "print(metadf[metadf['loc']=='missing'].shape)"
   ]
  },
  {
   "cell_type": "code",
   "execution_count": 25,
   "id": "bcb4e8af-c891-4e90-be68-d8071297acf9",
   "metadata": {},
   "outputs": [
    {
     "name": "stdout",
     "output_type": "stream",
     "text": [
      "(3022, 19)\n"
     ]
    }
   ],
   "source": [
    "metadf['membertype'] = metadf['text'].apply(lambda x: check_membertype(x[-math.ceil(len(x)/2):]))\n",
    "metadf.fillna('missing',inplace=True)\n",
    "print(metadf[metadf['membertype']=='missing'].shape)"
   ]
  },
  {
   "cell_type": "code",
   "execution_count": 26,
   "id": "f282877f-8042-4134-89d0-ca079c21109a",
   "metadata": {},
   "outputs": [
    {
     "name": "stdout",
     "output_type": "stream",
     "text": [
      "(0, 19)\n"
     ]
    }
   ],
   "source": [
    "apidf = pd.read_csv(mainpath + 'output/1_apicaseidx.csv',sep='\\t')\n",
    "webdf = pd.read_csv(mainpath + 'output/1_tablecaseidx.csv',sep='\\t')\n",
    "apidf = apidf[~apidf['cid'].isin(webdf['cid'].tolist())]\n",
    "apiwebdf = pd.concat([apidf[['cid','fileno']],webdf[['cid','fileno']]])\n",
    "filenodict = dict(zip(apiwebdf['cid'],apiwebdf['fileno']))\n",
    "metadf['fileno'] = metadf['cid'].map(filenodict)\n",
    "metadf.fillna('missing',inplace=True)\n",
    "print(metadf[metadf['fileno']=='missing'].shape)"
   ]
  },
  {
   "cell_type": "code",
   "execution_count": 28,
   "id": "7f8ee1f6-e1f5-4ba4-9558-cfa2408f4266",
   "metadata": {},
   "outputs": [],
   "source": [
    "metadf.to_csv(mainpath + 'output/3_metaclean.csv',sep='\\t',index=False,quoting=csv.QUOTE_ALL)"
   ]
  }
 ],
 "metadata": {
  "kernelspec": {
   "display_name": "Python 3 (ipykernel)",
   "language": "python",
   "name": "python3"
  },
  "language_info": {
   "codemirror_mode": {
    "name": "ipython",
    "version": 3
   },
   "file_extension": ".py",
   "mimetype": "text/x-python",
   "name": "python",
   "nbconvert_exporter": "python",
   "pygments_lexer": "ipython3",
   "version": "3.8.10"
  }
 },
 "nbformat": 4,
 "nbformat_minor": 5
}
