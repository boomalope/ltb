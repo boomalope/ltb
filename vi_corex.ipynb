{
 "cells": [
  {
   "cell_type": "code",
   "execution_count": 1,
   "id": "0c26b08c-06d6-457c-85f7-fcce66efb458",
   "metadata": {},
   "outputs": [],
   "source": [
    "from __future__ import print_function\n",
    "from bs4 import BeautifulSoup as bs\n",
    "from colour import Color\n",
    "from corextopic import corextopic as ct\n",
    "from gensim.corpora import Dictionary\n",
    "from gensim.models import doc2vec\n",
    "from gensim.models.coherencemodel import CoherenceModel\n",
    "from htmlparsing_kit import *\n",
    "from nltk.corpus import stopwords\n",
    "from nltk.stem import PorterStemmer, WordNetLemmatizer\n",
    "from nltk.tokenize import sent_tokenize\n",
    "from nltk.util import everygrams\n",
    "from nordvpn_switcher import initialize_VPN,rotate_VPN,terminate_VPN\n",
    "from sklearn.decomposition import LatentDirichletAllocation\n",
    "from sklearn.feature_extraction.text import CountVectorizer, TfidfVectorizer\n",
    "from sklearn.metrics.pairwise import cosine_similarity\n",
    "from sklearn.model_selection import GridSearchCV\n",
    "from sklearn.pipeline import Pipeline\n",
    "from sklearn.utils import shuffle\n",
    "from stop_words import get_stop_words\n",
    "from string import digits\n",
    "from tqdm import tqdm\n",
    "from webscraping_kit import read_jsoncsv, read_htmlfile, read_htmlresponse, read_driverresponse, get_cases\n",
    "from webscraping_kit import write_htmlfile, write_json_tofile, write_driverhtmlfile, rmnl\n",
    "from htmlparsing_kit import clean_sections\n",
    "import matplotlib.pyplot as plt\n",
    "import multiprocessing as mp\n",
    "from selenium import webdriver\n",
    "import numpy as np\n",
    "import pandas as pd\n",
    "import re, os, glob, csv, math, requests, time, sys, random, json, datetime, urllib, nltk, pickle\n",
    "import scipy.sparse as ss\n",
    "from scipy import spatial\n",
    "%matplotlib inline"
   ]
  },
  {
   "cell_type": "code",
   "execution_count": 2,
   "id": "e920b7b6-55df-4a11-8b95-60e35a9714bc",
   "metadata": {},
   "outputs": [],
   "source": [
    "def optimize_params(docs,ngramranges,maxdflist,maxfeatures,applicanttype):\n",
    "    itercounter = 0\n",
    "    results = []\n",
    "    for nr in ngramranges:\n",
    "        print('-------------------------------------------------')\n",
    "        print(\"         Ngram range: \"+ ','.join([str(x) for x in nr]))\n",
    "        print('-------------------------------------------------')\n",
    "        for mx in maxdflist:\n",
    "            print('           -------------------------             ')\n",
    "            print(\"             Max Document Frequency:             \"+ str(mx))\n",
    "            print('           -------------------------             ')\n",
    "            for fc in maxfeatures:\n",
    "                print(\"Max Features: \"+str(fc))\n",
    "                vectorizern = TfidfVectorizer(ngram_range=(nr[0], nr[1]), max_features = fc, max_df = mx, min_df = 0.01)\n",
    "                dtm_tf = vectorizern.fit_transform(docs)\n",
    "                dtm_tf = ss.csr_matrix(dtm_tf)\n",
    "                words = vectorizern.get_feature_names_out()\n",
    "                for T in T_list:\n",
    "                    print(\"Topic count: \"+str(T))\n",
    "                    topic_model = ct.Corex(n_hidden=T)\n",
    "                    topic_model.fit(dtm_tf, words=words, docs=docs)\n",
    "                    topicstc = topic_model.tc\n",
    "                    results.append(['_'.join([str(x) for x in nr]),mx,fc,T,topicstc])\n",
    "                    itercounter +=1\n",
    "                    print(topicstc)\n",
    "            print(itercounter)\n",
    "        print('--------------------------------------------------')\n",
    "    rdf = pd.DataFrame(results,columns=['ngramrange','maxdf','maxfeatures','topiccount','totalcorrelation'])\n",
    "    rdf['applicant'] = applicanttype\n",
    "    return rdf"
   ]
  },
  {
   "cell_type": "code",
   "execution_count": 3,
   "id": "c07a91e6-9255-4824-bf4e-1bf8221698cd",
   "metadata": {},
   "outputs": [
    {
     "name": "stdout",
     "output_type": "stream",
     "text": [
      "(36461, 29)\n"
     ]
    }
   ],
   "source": [
    "mainpath = str(os.getcwd())+'/'\n",
    "df = pd.read_csv(mainpath+\"output/5_model_results.csv\",sep='\\t')\n",
    "print(df.shape)\n",
    "df['cleansections']=df['sections'].apply(lambda x: clean_sections(x))\n",
    "df['datetime'] = pd.to_datetime(df['date'])\n",
    "df['year'] = df['datetime'].dt.year"
   ]
  },
  {
   "cell_type": "code",
   "execution_count": 4,
   "id": "88bd640d-a4a4-4b61-973a-4cb57cf7ce9b",
   "metadata": {},
   "outputs": [
    {
     "name": "stdout",
     "output_type": "stream",
     "text": [
      "(17744, 32)\n"
     ]
    }
   ],
   "source": [
    "df20 = df[df['year'].isin([2020,2021])]\n",
    "print(df20.shape)"
   ]
  },
  {
   "cell_type": "code",
   "execution_count": 5,
   "id": "3e6765b4-967c-4f77-8a3e-f35699baef49",
   "metadata": {},
   "outputs": [
    {
     "name": "stdout",
     "output_type": "stream",
     "text": [
      "0.48665697594690216\n"
     ]
    }
   ],
   "source": [
    "print(df20.shape[0]/df.shape[0])"
   ]
  },
  {
   "cell_type": "code",
   "execution_count": 7,
   "id": "f8222cda-29af-4ed3-9034-1d7331c81c7a",
   "metadata": {},
   "outputs": [
    {
     "name": "stdout",
     "output_type": "stream",
     "text": [
      "17744\n"
     ]
    }
   ],
   "source": [
    "docs =df20['topiccleantext'].tolist()\n",
    "print(len(docs))"
   ]
  },
  {
   "cell_type": "code",
   "execution_count": 8,
   "id": "a0a3e503-b35d-46d6-a486-8ee19b488694",
   "metadata": {},
   "outputs": [
    {
     "name": "stdout",
     "output_type": "stream",
     "text": [
      "108\n"
     ]
    }
   ],
   "source": [
    "T_list = [5,10,15]\n",
    "maxfeatures = [4000,5000,6000,7000] # 9000 for tt; <=8000 for ll\n",
    "maxdflist = [0.75,0.8,0.85]\n",
    "ngramranges = [[1,2],[1,3],[1,4]]\n",
    "print(len(T_list)*len(maxfeatures)*len(maxdflist)*len(ngramranges))"
   ]
  },
  {
   "cell_type": "code",
   "execution_count": 1,
   "id": "f3359b3d-c011-4e0c-9b35-e787a4c71333",
   "metadata": {},
   "outputs": [],
   "source": [
    "# tsamp = random.sample(df20[df20['applicant']=='t']['text'].tolist(),1)[0][:1000]\n",
    "# print(tsamp)"
   ]
  },
  {
   "cell_type": "code",
   "execution_count": 12,
   "id": "a567fbce-bb1f-4a3f-80fa-b8da36c2828a",
   "metadata": {
    "scrolled": true,
    "tags": []
   },
   "outputs": [
    {
     "name": "stdout",
     "output_type": "stream",
     "text": ["...\n\n",
      "           -------------------------             \n",
      "             Max Document Frequency:             0.85\n",
      "           -------------------------             \n",
      "Max Features: 4000\n",
      "Topic count: 5\n",
      "7.282368848948565\n",
      "Topic count: 10\n",
      "7.898891284823947\n",
      "Topic count: 15\n",
      "8.276628521189679\n",
      "Max Features: 5000\n",
      "Topic count: 5\n",
      "7.327166634624435\n",
      "Topic count: 10\n",
      "8.326916574802095\n",
      "Topic count: 15\n",
      "8.321317523136997\n",
      "Max Features: 6000\n",
      "Topic count: 5\n",
      "7.124895282239359\n",
      "Topic count: 10\n",
      "8.505733826888925\n",
      "Topic count: 15\n",
      "9.231217690743065\n",
      "Max Features: 7000\n",
      "Topic count: 5\n",
      "7.386380809819233\n",
      "Topic count: 10\n",
      "8.106232218901157\n",
      "Topic count: 15\n",
      "9.236665514587955\n",
      "108\n",
      "--------------------------------------------------\n"
     ]
    }
   ],
   "source": [
    "best = optimize_params(docs,ngramranges,maxdflist,maxfeatures,'both')"
   ]
  },
  {
   "cell_type": "code",
   "execution_count": 14,
   "id": "19032f24-d172-4ece-9ba1-78ab59461f71",
   "metadata": {},
   "outputs": [
    {
     "data": {
      "text/html": [
       "<div>\n",
       "<style scoped>\n",
       "    .dataframe tbody tr th:only-of-type {\n",
       "        vertical-align: middle;\n",
       "    }\n",
       "\n",
       "    .dataframe tbody tr th {\n",
       "        vertical-align: top;\n",
       "    }\n",
       "\n",
       "    .dataframe thead th {\n",
       "        text-align: right;\n",
       "    }\n",
       "</style>\n",
       "<table border=\"1\" class=\"dataframe\">\n",
       "  <thead>\n",
       "    <tr style=\"text-align: right;\">\n",
       "      <th></th>\n",
       "      <th>ngramrange</th>\n",
       "      <th>maxdf</th>\n",
       "      <th>maxfeatures</th>\n",
       "      <th>topiccount</th>\n",
       "      <th>totalcorrelation</th>\n",
       "      <th>applicant</th>\n",
       "      <th>bestparams</th>\n",
       "    </tr>\n",
       "  </thead>\n",
       "  <tbody>\n",
       "    <tr>\n",
       "      <th>83</th>\n",
       "      <td>1_4</td>\n",
       "      <td>0.75</td>\n",
       "      <td>7000</td>\n",
       "      <td>15</td>\n",
       "      <td>9.46888</td>\n",
       "      <td>both</td>\n",
       "      <td>best</td>\n",
       "    </tr>\n",
       "  </tbody>\n",
       "</table>\n",
       "</div>"
      ],
      "text/plain": [
       "   ngramrange  maxdf  maxfeatures  topiccount  totalcorrelation applicant  \\\n",
       "83        1_4   0.75         7000          15           9.46888      both   \n",
       "\n",
       "   bestparams  \n",
       "83       best  "
      ]
     },
     "execution_count": 14,
     "metadata": {},
     "output_type": "execute_result"
    }
   ],
   "source": [
    "best['bestparams'] = np.where(best['totalcorrelation']==best['totalcorrelation'].max(), 'best','other')\n",
    "best[best['bestparams']=='best']"
   ]
  },
  {
   "cell_type": "code",
   "execution_count": 15,
   "id": "21a754cf-db55-4270-a021-5c2df13f0dc8",
   "metadata": {},
   "outputs": [],
   "source": [
    "best.to_csv(mainpath + 'output/6_corex_paramopt.csv',sep='\\t',index=False,quoting=csv.QUOTE_ALL)"
   ]
  },
  {
   "cell_type": "code",
   "execution_count": 16,
   "id": "2f670e94-1aa6-4fb7-ba4d-3f02765379fd",
   "metadata": {},
   "outputs": [],
   "source": [
    "vectorizern = TfidfVectorizer(ngram_range=(1, 4), max_features = 7000, max_df = 0.75, min_df = 0.01)\n",
    "dtm_tf = vectorizern.fit_transform(docs)\n",
    "dtm_tf = ss.csr_matrix(dtm_tf)\n",
    "words = vectorizern.get_feature_names_out()"
   ]
  },
  {
   "cell_type": "code",
   "execution_count": 17,
   "id": "ffe1fd77-9cd5-4bdb-b612-a8e29b39de59",
   "metadata": {},
   "outputs": [
    {
     "data": {
      "text/plain": [
       "<corextopic.corextopic.Corex at 0x7f8e9456b220>"
      ]
     },
     "execution_count": 17,
     "metadata": {},
     "output_type": "execute_result"
    }
   ],
   "source": [
    "topic_model = ct.Corex(n_hidden=15, seed=42)\n",
    "topic_model.fit(dtm_tf, words=words, docs=docs)"
   ]
  },
  {
   "cell_type": "code",
   "execution_count": 18,
   "id": "2ee6eb6c-2245-4663-a353-158ba88574b9",
   "metadata": {},
   "outputs": [
    {
     "name": "stdout",
     "output_type": "stream",
     "text": [
      "9.587443535882201\n",
      "[2.28024341 1.78641696 1.11807564 0.87985093 0.61170204 0.56631875\n",
      " 0.47127803 0.46385884 0.45680238 0.36077904 0.27823818 0.1746127\n",
      " 0.08279911 0.04219068 0.01427684]\n"
     ]
    }
   ],
   "source": [
    "print(topic_model.tc)\n",
    "print(topic_model.tcs)"
   ]
  },
  {
   "cell_type": "code",
   "execution_count": 321,
   "id": "e3d4f7ce-30bf-4d07-a5a3-d45335c32e76",
   "metadata": {},
   "outputs": [
    {
     "data": {
      "image/png": "[encoded data removed]",
      "text/plain": [
       "<Figure size 1080x720 with 1 Axes>"
      ]
     },
     "metadata": {
      "needs_background": "light"
     },
     "output_type": "display_data"
    }
   ],
   "source": [
    "numt = 15\n",
    "startcolor = Color(\"#432371\")\n",
    "endcolor = Color(\"#FAAE7B\")\n",
    "colors = [str(x) for x in list(startcolor.range_to(endcolor,numt))]\n",
    "plt.figure(figsize=(15,10))\n",
    "plt.bar(list(range(0,numt)), topic_model.tcs, color=colors, width=0.5)\n",
    "plt.xticks([])\n",
    "\n",
    "plt.xlabel('Topic', fontsize=16,labelpad=10)\n",
    "plt.ylabel('Total Correlation (nats)', fontsize=16,labelpad=10)\n",
    "plt.rcParams[\"font.family\"] = \"serif\"\n",
    "plt.rcParams[\"font.size\"] = 16\n",
    "plt.rcParams['mathtext.fontset'] = 'dejavuserif'\n",
    "plt.yticks(rotation = 0,fontsize=15,fontname='serif')\n",
    "plt.xticks(rotation = 45,fontsize=15,fontname='serif')\n",
    "plt.xlabel('Topic', fontsize=16,labelpad=10,fontname='serif')\n",
    "plt.ylabel('Total Correlation (nats)', fontsize=16,labelpad=10,fontname='serif')\n",
    "plt.savefig(mainpath + 'graphs/6_corextopics_tc.png', dpi=600, bbox_inches='tight')"
   ]
  },
  {
   "cell_type": "code",
   "execution_count": 20,
   "id": "36a21517-801c-4996-90ef-9a594f64bd41",
   "metadata": {},
   "outputs": [
    {
     "name": "stdout",
     "output_type": "stream",
     "text": [
      "1: condition specify, specify, previous, condition, meet, request payment arrears rent, request payment arrears, request payment, previous application, pay rent arrears\n",
      "2: make motion, subsection, make, void, motion, payment make, 7411, subsection 7411 act, subsection 7411, amount require subsection\n",
      "3: tenant, tenant pay, tenant shall, rent tenant, rent deposit tenant, deposit tenant, owe tenant, unit tenant, tenant shall also pay, tenant shall also\n",
      "4: damage, review, evidence, repair, another, testify, request review, residential, person, n12\n",
      "5: condition set, 2041, arrears arrears, subject condition, relief eviction subject, eviction subject, eviction subject condition, unfair relief eviction subject, relief eviction subject condition, eviction subject condition set\n",
      "6: regulation, emergency civil, civil tpaa, emergency civil tpaa, civil, tpaa, emergency, make emergency civil, make emergency civil tpaa, make emergency\n",
      "7: ~deposit, section rtaa matter, ~serve notice, section rtaa, ~rent deposit, ~determination pay total, ~determination pay total rent, ~determination pay, ~pay total rent require, ~total rent require\n",
      "8: pay landlord, landlord enforcement eviction, landlord enforcement eviction enforce, landlord enforcement, shall also pay landlord, also pay landlord, landlord apply, landlords, landlord apply terminate tenancy, landlord apply terminate\n",
      "9: agreement terminate tenancy, agreement terminate, terminate tenancy determination, tenancy determination, sign agreement terminate tenancy, sign agreement terminate, enter agreement terminate tenancy, enter agreement terminate, sign agreement, agreement terminate tenancy determination\n",
      "10: charge, cheque, charge relate, nsf, cheque tender, nsf cheque, tender behalf, cheque tender behalf, tender, relate\n",
      "11: issuance delay, eviction order period 31, eviction order period, order period 31, 31 issuance, 31 issuance delay, order period, superior justice suspend enforcement, superior justice suspend, justice suspend\n",
      "12: sum money owe, pay sum money owe, pay sum money, sum money owe result, money owe result, shall pay sum money, sum money, owe result, money owe, shall pay sum\n",
      "13: 12 start, 13 start, 13, 13 annually balance outstanding, calculate 13 annually balance, 13 annually balance, 13 annually, calculate 13, calculate 13 annually, simple interest calculate 13\n",
      "14: motion set, motion set aside, set aside motion, aside motion, 7811, motion set aside motion, 7811 rtaa, file motion set, file motion set aside, section 7811\n",
      "15: rental unit possession rental, rental unit possession, unit possession rental, unit possession rental unit, unit possession, vacate rental unit possession, tenancy terminate give possession, tenancy terminate give, terminate give possession, terminate give\n"
     ]
    }
   ],
   "source": [
    "topicstrings = []\n",
    "topics = topic_model.get_topics()\n",
    "for topic_n,topic in enumerate(topics):\n",
    "    # w: word, mi: mutual information, s: sign\n",
    "    topic = [(w,mi,s) if s > 0 else ('~'+w,mi,s) for w,mi,s in topic]\n",
    "    words,mis,signs = zip(*topic)    \n",
    "    topic_str = str(topic_n+1)+': '+', '.join(words)\n",
    "    print(topic_str)\n",
    "    # topicstrings.append(topic_str)"
   ]
  },
  {
   "cell_type": "code",
   "execution_count": 320,
   "id": "dd4e5cc0-c219-4799-8f0b-4058b4cd703e",
   "metadata": {},
   "outputs": [],
   "source": [
    "topicdf = pd.DataFrame(topic_model.p_y_given_x)\n",
    "topicdf.columns = list(range(0,numt))\n",
    "topicdf['cid'] = df20['cid'].tolist()\n",
    "topicdf.to_csv(mainpath + 'output/6_corextopics_vals.csv',sep='\\t',index=False,quoting=csv.QUOTE_ALL)\n",
    "del topicdf['cid']\n",
    "topicdf = topicdf.idxmax(axis=1).reset_index()\n",
    "del topicdf['index']\n",
    "topicdf.columns = ['topic']\n",
    "topicdf['cid'] = df20['cid'].tolist()\n",
    "df20 = df20.copy()\n",
    "df20['topic'] = df20['cid'].map(dict(zip(topicdf['cid'],topicdf['topic'])))"
   ]
  },
  {
   "cell_type": "code",
   "execution_count": 22,
   "id": "3f6f124c-8381-4a8f-bb5c-831eadd9af2e",
   "metadata": {},
   "outputs": [
    {
     "data": {
      "text/plain": [
       "1     6174\n",
       "3     2545\n",
       "0     2380\n",
       "2     1648\n",
       "14    1498\n",
       "8     1016\n",
       "4      711\n",
       "6      402\n",
       "7      334\n",
       "5      267\n",
       "9      255\n",
       "13     175\n",
       "11     120\n",
       "10     112\n",
       "12     107\n",
       "Name: topic, dtype: int64"
      ]
     },
     "execution_count": 22,
     "metadata": {},
     "output_type": "execute_result"
    }
   ],
   "source": [
    "df20['topic'].value_counts()"
   ]
  },
  {
   "cell_type": "code",
   "execution_count": 318,
   "id": "3b2daf55-acb9-4ddf-a044-a00e6016a0ce",
   "metadata": {},
   "outputs": [],
   "source": [
    "tnamedict = {0:\"Failed Meet Condition\",1:\"Evict Nonpayment\",2:\"Evict Nonpayment\",3:\"Breaking Rules\",4:\"Evict Nonpayment\",5:\"Agree Terminate\",6:\"Evict Nonpayment/Agree Terminate\", 7:\"Evict Nonpayment/Agree Terminate\",8:\"Agree Terminate\",9:\"Evict Nonpayment and NSF Charges\",10:\"Eviction Moratorium\",11:\"Rent Changes\",12:\"Evict Nonpayment\",13:\"Failed Meet Condition\",14:\"Evict Nonpayment\"}"
   ]
  },
  {
   "cell_type": "code",
   "execution_count": 2,
   "id": "22650146-ef19-4d41-99b3-cc4017dd298d",
   "metadata": {},
   "outputs": [],
   "source": [
    "# tsamp = random.sample(df20[df20['topic']==4]['text'].tolist(),1)[0][:1000]\n",
    "# print(tsamp)"
   ]
  },
  {
   "cell_type": "code",
   "execution_count": 319,
   "id": "91e4969a-eef6-4aa9-982c-23920e3c1ebc",
   "metadata": {},
   "outputs": [],
   "source": [
    "df20['tname'] = df20['topic'].map(tnamedict)"
   ]
  },
  {
   "cell_type": "code",
   "execution_count": 323,
   "id": "91502e60-f182-4f1c-a811-b5e64a90bfa8",
   "metadata": {},
   "outputs": [
    {
     "data": {
      "text/plain": [
       "Evict Nonpayment                    10138\n",
       "Failed Meet Condition                2555\n",
       "Breaking Rules                       2545\n",
       "Agree Terminate                      1283\n",
       "Evict Nonpayment/Agree Terminate      736\n",
       "Evict Nonpayment and NSF Charges      255\n",
       "Rent Changes                          120\n",
       "Eviction Moratorium                   112\n",
       "Name: tname, dtype: int64"
      ]
     },
     "execution_count": 323,
     "metadata": {},
     "output_type": "execute_result"
    }
   ],
   "source": [
    "df20['tname'].value_counts()"
   ]
  },
  {
   "cell_type": "code",
   "execution_count": 322,
   "id": "e95667aa-7019-4754-b65e-4d5aae88ceb0",
   "metadata": {},
   "outputs": [],
   "source": [
    "df20.to_csv(mainpath + 'output/6_case_db_202021.csv',sep='\\t',index=False,quoting=csv.QUOTE_ALL)\n"
   ]
  }
 ],
 "metadata": {
  "kernelspec": {
   "display_name": "Python 3 (ipykernel)",
   "language": "python",
   "name": "python3"
  },
  "language_info": {
   "codemirror_mode": {
    "name": "ipython",
    "version": 3
   },
   "file_extension": ".py",
   "mimetype": "text/x-python",
   "name": "python",
   "nbconvert_exporter": "python",
   "pygments_lexer": "ipython3",
   "version": "3.8.10"
  }
 },
 "nbformat": 4,
 "nbformat_minor": 5
}
