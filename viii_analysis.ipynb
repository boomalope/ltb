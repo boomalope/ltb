{
 "cells": [
  {
   "cell_type": "code",
   "execution_count": 1,
   "id": "71846a7e-12f9-4eb8-b57a-a28452d41763",
   "metadata": {
    "scrolled": true
   },
   "outputs": [
    {
     "name": "stderr",
     "output_type": "stream",
     "text": [
      "2022-02-07 12:01:59.167070: W tensorflow/stream_executor/platform/default/dso_loader.cc:64] Could not load dynamic library 'libcudart.so.11.0'; dlerror: libcudart.so.11.0: cannot open shared object file: No such file or directory\n",
      "2022-02-07 12:01:59.167095: I tensorflow/stream_executor/cuda/cudart_stub.cc:29] Ignore above cudart dlerror if you do not have a GPU set up on your machine.\n"
     ]
    },
    {
     "name": "stdout",
     "output_type": "stream",
     "text": [
      "------------------------------------------\n",
      "(17744, 37)\n",
      "l    17271\n",
      "t      473\n",
      "Name: applicant, dtype: int64\n",
      "l    15380\n",
      "t     2364\n",
      "Name: winner, dtype: int64\n",
      "applicant      l    t\n",
      "winner               \n",
      "l          15255  125\n",
      "t           2016  348\n",
      "------------------------------------------\n",
      "(36461, 35)\n",
      "(36460, 35)\n",
      "l    30427\n",
      "t     6033\n",
      "Name: applicant, dtype: int64\n",
      "l    26136\n",
      "t    10324\n",
      "Name: winner, dtype: int64\n",
      "applicant      l     t\n",
      "winner                \n",
      "l          24061  2075\n",
      "t           6366  3958\n",
      "------------------------------------------\n",
      "(1636, 29)\n",
      "l    1133\n",
      "t     503\n",
      "Name: applicant, dtype: int64\n",
      "l    968\n",
      "t    668\n",
      "Name: winner, dtype: int64\n",
      "applicant    l    t\n",
      "winner             \n",
      "l          798  170\n",
      "t          335  333\n",
      "------------------------------------------\n"
     ]
    }
   ],
   "source": [
    "from collections import Counter\n",
    "from datetime import date, timedelta, datetime\n",
    "from dateutil.relativedelta import relativedelta\n",
    "from itertools import combinations, tee\n",
    "from matplotlib.ticker import PercentFormatter\n",
    "import matplotlib.lines as mlines\n",
    "import matplotlib.pyplot as plt\n",
    "import matplotlib.ticker as ticker\n",
    "import re, csv, pickle, spacy, nltk, os, random, json, time, random, csv, os, datetime, lxml, glob, imutils, operator\n",
    "import numpy as np\n",
    "import pandas as pd\n",
    "import researchpy as rp\n",
    "import scipy.sparse as ss\n",
    "import scipy.stats as stats\n",
    "import seaborn as sns\n",
    "from htmlparsing_kit import clean_sections\n",
    "import statsmodels.api as sm\n",
    "import statsmodels.formula.api as smf\n",
    "import pgeocode\n",
    "%matplotlib inline\n",
    "\n",
    "def create_xticks(dtf):\n",
    "    qrtrs = []\n",
    "    qlist = sorted(list(set(dtf['quarter'].tolist())))\n",
    "    for i,qr in enumerate(qlist):\n",
    "        qr = str(qr)\n",
    "        qtr = qr.split('Q')[1]\n",
    "        year = qr.split('Q')[0]\n",
    "        if qtr == '1':\n",
    "            newqr = '\\n\\n'.join([qtr,year])\n",
    "        else:\n",
    "            newqr = qtr\n",
    "        qrtrs.append(newqr)\n",
    "    return qrtrs, len(qlist)\n",
    "\n",
    "def get_address(x):\n",
    "    x = x.split(\":\",1)[-1].split(\":\",1)[-1].split(\":\",1)[-1].split(\":\",1)[-1].split(\":\",1)[-1].split(\":\",1)[-1].split(\":\",1)[0].strip()\n",
    "    if x.endswith(\"Between\"):\n",
    "        address = x.split(\"Between\",1)[0].strip()\n",
    "    else:\n",
    "        address = 'missing'\n",
    "    return address\n",
    "\n",
    "def write_json(jsonobj,filename):\n",
    "    with open(filename,'a') as f:\n",
    "        f.write(json.dumps(jsonobj)+'\\n')\n",
    "        \n",
    "def get_addressloc(x,nomi,mainpath):\n",
    "    if x != \"missing\":\n",
    "        try:\n",
    "            place = nomi.query_postal_code(x)\n",
    "            pdf = pd.DataFrame(place).T\n",
    "            pdf['query'] = x\n",
    "            pdf.to_csv(mainpath + \"output/7_addresses.csv\",sep='\\t',index = False,mode='a')\n",
    "            locale = place['place_name']\n",
    "        except:\n",
    "            locale = \"error\"\n",
    "    else:\n",
    "        locale = \"missing\"\n",
    "    return locale\n",
    "\n",
    "def get_winloss(df20,tname):\n",
    "    qframes = []\n",
    "    for n,g in df20.groupby(['monthyear']):\n",
    "        g = g[g['tname']==tname]\n",
    "        winlossdict = {}\n",
    "        winlossdict['Month-Year'] = str(n)\n",
    "        winlossdict['Landlord Wins'] = 0.0\n",
    "        winlossdict['Landlord Losses'] =0.0\n",
    "        winlossdict['Tenant Wins'] = 0.0\n",
    "        winlossdict['Tenant Losses'] =0.0\n",
    "        winlossdict['Landlord Applications'] =0.0\n",
    "        winlossdict['Tenant Applications'] =0.0\n",
    "        qcasecount = sum(g['numone'].tolist())\n",
    "        winlossdict['Order Count'] = qcasecount\n",
    "        for l1,h1 in g.groupby(['applicant']):\n",
    "            if l1=='l':\n",
    "                winlossdict['Landlord Applications']=sum(h1['numone'].tolist())\n",
    "            else:\n",
    "                winlossdict['Tenant Applications']=sum(h1['numone'].tolist())\n",
    "        for l,h in g.groupby(['applicant','winner']):\n",
    "            if l[0] == 'l' and l[1] == 'l':\n",
    "                winlossdict['Landlord Wins'] = round(sum(h['numone'].tolist())/qcasecount,3)\n",
    "            elif l[0] == 'l' and l[1] == 't':\n",
    "                winlossdict['Landlord Losses'] = round(sum(h['numone'].tolist())/qcasecount,3)\n",
    "            elif l[0] == 't' and l[1] == 't':\n",
    "                winlossdict['Tenant Wins'] = round(sum(h['numone'].tolist())/qcasecount,3)\n",
    "            else:\n",
    "                winlossdict['Tenant Losses'] = round(sum(h['numone'].tolist())/qcasecount,3)\n",
    "                continue\n",
    "        wldf = pd.DataFrame(list(winlossdict.values())).T.reset_index()\n",
    "        del wldf['index']\n",
    "        wldf.columns = ['Month-Year','Landlord Wins','Landlord Losses','Tenant Wins','Tenant Losses','Landlord Applications','Tenant Applications','Order Count']\n",
    "        qframes.append(wldf)\n",
    "    ydf = pd.concat(qframes)\n",
    "    ydf['tname'] = tname\n",
    "    return ydf\n",
    "\n",
    "def get_winlossfull(df):\n",
    "    qframes = []\n",
    "    for n,g in df.groupby(['quarter']):\n",
    "        winlossdict = {}\n",
    "        winlossdict['quarter'] = str(n)\n",
    "        winlossdict['Landlord Wins'] = 0.0\n",
    "        winlossdict['Landlord Losses'] =0.0\n",
    "        winlossdict['Tenant Wins'] = 0.0\n",
    "        winlossdict['Tenant Losses'] =0.0\n",
    "        winlossdict['llcasecount'] =0.0\n",
    "        winlossdict['ttcasecount'] =0.0\n",
    "        winlossdict['qcasecount'] = sum(g['numone'].tolist())\n",
    "        for l1,h1 in g.groupby(['applicant']):\n",
    "            if l1=='l':\n",
    "                winlossdict['llcasecount']= sum(h1['numone'].tolist())\n",
    "            else:\n",
    "                winlossdict['ttcasecount']=sum(h1['numone'].tolist())\n",
    "        for l,h in g.groupby(['applicant','winner']):\n",
    "            if l[0] == 'l' and l[1] == 'l':\n",
    "                winlossdict['Landlord Wins'] = round(sum(h['numone'].tolist())/winlossdict['qcasecount'],3)\n",
    "            elif l[0] == 'l' and l[1] == 't':\n",
    "                winlossdict['Landlord Losses'] = round(sum(h['numone'].tolist())/winlossdict['qcasecount'],3)\n",
    "            elif l[0] == 't' and l[1] == 't':\n",
    "                winlossdict['Tenant Wins'] = round(sum(h['numone'].tolist())/winlossdict['qcasecount'],3)\n",
    "            else:\n",
    "                winlossdict['Tenant Losses'] = round(sum(h['numone'].tolist())/winlossdict['qcasecount'],3)\n",
    "                continue\n",
    "        wldf = pd.DataFrame(list(winlossdict.values())).T.reset_index()\n",
    "        del wldf['index']\n",
    "        wldf.columns = ['quarter','llwins','llloss','ttwins','ttloss','llcasecount','ttcasecount','casecount']\n",
    "        qframes.append(wldf)\n",
    "    ydf = pd.concat(qframes)\n",
    "    return ydf\n",
    "\n",
    "def plottopic(ydfn,tname,topiccolors,colordict):\n",
    "    xaxislabels = []\n",
    "    for m in sorted(list(set(ydfn['Month-Year'].tolist()))):\n",
    "        if str(m).split('-')[1] == '06':\n",
    "            xl = '\\n\\n'.join([str(m).split('-')[1],str(m).split('-')[0]])\n",
    "        else:\n",
    "            xl = str(m).split('-')[1]\n",
    "        xaxislabels.append(xl)\n",
    "    fig, ax = plt.subplots()\n",
    "    \n",
    "    plt.axvspan(2.65, 6.35, color=colordict['blackwhite'][2], alpha=0.3, lw=5)\n",
    "    plt.axvspan(11.65, 22.35, color=colordict['blackwhite'][2], alpha=0.3, lw=5)\n",
    "    ydfn.plot(ax=ax, x='Month-Year', y=['Landlord Applications','Tenant Applications'], secondary_y=True, label=['Landlord Applications','Tenant Applications'], linewidth=4,xlabel=None, ylabel=None,grid=True,color=[colordict['blue'][3],colordict['pink'][0]],legend=False)\n",
    "    ydfn[['Month-Year','Landlord Wins','Landlord Losses','Tenant Wins','Tenant Losses']].plot(kind='bar', stacked=True,figsize=(17, 5),color=[colordict['blue'][1],colordict['blue'][4],colordict['pink'][2],colordict['pink'][4]],ax=ax,width=0.7)\n",
    "    plt.rcParams[\"font.family\"] = \"serif\"\n",
    "    plt.rcParams[\"font.size\"] = 16\n",
    "    plt.rcParams['mathtext.fontset'] = 'dejavuserif'\n",
    "    y_min, y_max = ax.get_ylim()\n",
    "    plt.grid(linestyle = '--', linewidth = 0.5)\n",
    "    plt.tick_params(axis='x', which='major', pad=10)\n",
    "    plt.title('\"'+tname+'\"'+\" (\"+str(ydfn['Order Count'].sum()).split('.',1)[0]+\" Cases)\", pad=10)\n",
    "    ax.get_legend().remove()\n",
    "    plt.yticks(rotation =0,fontsize=16,fontname='serif')\n",
    "    plt.xticks(rotation =90,fontsize=16,fontname='serif')\n",
    "    plt.savefig(mainpath + 'graphs/topics/svmmodel_dist_'+tname+'.png', dpi=600, bbox_inches='tight')\n",
    "    plt.savefig(mainpath + 'graphs/topics/svgs/svmmodel_dist_'+tname+'.svg', dpi=600, bbox_inches='tight')\n",
    "\n",
    "\n",
    "\n",
    "colordict = {\"blue\":['#0b00ff','#0063ff','#0092ff','#2ab9ff','#a7daf6'],\n",
    "\"red\":[\"#ff0000\",\"#ff4f41\",\"#ff7970\",\"#ff9f9b\",\"#f5c2c2\"],\n",
    "\"pink\":[\"#ff00fe\",\"#f556f7\",\"#eb79ef\",\"#e194e5\",\"#d7abda\"],\n",
    "\"green\":[\"#093f05\",\"#265a21\",\"#40763c\",\"#5b9458\",\"#76b276\"],\n",
    "\"yellow\":[\"#ffe700\",\"#e3d42f\",\"#c9c141\",\"#b1ad4e\",\"#9b9a57\"],\n",
    "\"orange\":[ \"#ff7101\",\"#f37927\",\"#e7813e\",\"#da8752\",\"#cc8d65\",\"#FFD9B3\"],\n",
    "\"purple\":[\"#6001ff\",\"#7536ff\",\"#8753ff\",\"#986cff\",\"#a884fd\"],\n",
    "\"blackwhite\":[\"#020003\",\"#48454c\",\"#908d9b\",\"#dedef3\"]}\n",
    "\n",
    "colorlist = []\n",
    "for l in list(colordict.values()):\n",
    "    colorlist.extend(l)\n",
    "\n",
    "newtopicnames = {\n",
    "    11:\"Rent Changes\", \n",
    "    10:\"Moratorium\", \n",
    "    12:\"Nonpayment\",\n",
    "    13:\"Failed Condition\",\n",
    "    9:\"Nonpayment\",\n",
    "    5:\"Moratorium\",\n",
    "    7:\"Nonpayment\",\n",
    "    6:\"Nonpayment\",\n",
    "    4:\"Nonpayment\",\n",
    "    8:\"Agree Terminate\",\n",
    "    14:\"Nonpayment\",\n",
    "    2:\"Nonpayment\",\n",
    "    0:\"Failed Condition\",\n",
    "    3:\"Breaking Rules\",\n",
    "    1:\"Nonpayment\"\n",
    "}\n",
    "\n",
    "nomi = pgeocode.Nominatim('ca')\n",
    "\n",
    "mainpath = str(os.getcwd())+'/'\n",
    "\n",
    "print('------------------------------------------')\n",
    "df20 = pd.read_csv(mainpath+\"output/6_case_db_202021.csv\",sep='\\t')\n",
    "df20['datetime'] = pd.to_datetime(df20['date'])\n",
    "df20['year'] = df20['datetime'].dt.year\n",
    "df20['monthyear'] = pd.PeriodIndex(df20.datetime, freq='M')\n",
    "df20['quarter'] = pd.PeriodIndex(df20.datetime, freq='Q')\n",
    "df20['numone'] = 1\n",
    "df20['tname'] = df20['topic'].map(newtopicnames)\n",
    "df20.fillna(np.nan,inplace=True)\n",
    "print(df20.shape)\n",
    "print(df20['applicant'].value_counts())\n",
    "print(df20['winner'].value_counts())\n",
    "print(pd.crosstab(df20.winner, df20.applicant))\n",
    "print('------------------------------------------')\n",
    "\n",
    "df = pd.read_csv(mainpath+\"output/5_model_results.csv\",sep='\\t')\n",
    "df['cleansections']=df['sections'].apply(lambda x: clean_sections(x))\n",
    "df['datetime'] = pd.to_datetime(df['date'])\n",
    "df['year'] =df['datetime'].dt.year\n",
    "df['quarter'] = pd.PeriodIndex(df.datetime, freq='Q')\n",
    "df['monthyear'] = pd.PeriodIndex(df.datetime, freq='M')\n",
    "df['numone'] = 1\n",
    "print(df.shape)\n",
    "df = df[df['year']!=2006]\n",
    "df.fillna(np.nan,inplace=True)\n",
    "print(df.shape)\n",
    "print(df['applicant'].value_counts())\n",
    "print(df['winner'].value_counts())\n",
    "print(pd.crosstab(df.winner, df.applicant))\n",
    "print('------------------------------------------')\n",
    "\n",
    "traindf = pd.read_csv(mainpath+'output/4_traindataplus.csv',sep='\\t')\n",
    "traindf = traindf[traindf['outcome']!='nottrainingsample']\n",
    "print(traindf.shape)\n",
    "print(traindf['applicant'].value_counts())\n",
    "print(traindf['winner'].value_counts())\n",
    "print(pd.crosstab(traindf.winner, traindf.applicant))\n",
    "print('------------------------------------------')"
   ]
  },
  {
   "cell_type": "markdown",
   "id": "9c038362-7ded-4342-8eeb-9535953fad48",
   "metadata": {},
   "source": [
    "<h2> SJTO Applications by Resolution Type VS Custom DB </h2>"
   ]
  },
  {
   "cell_type": "code",
   "execution_count": 2,
   "id": "e4c778be-7278-4e99-8c67-5ff27dcbc0a9",
   "metadata": {},
   "outputs": [
    {
     "data": {
      "text/html": [
       "<div>\n",
       "<style scoped>\n",
       "    .dataframe tbody tr th:only-of-type {\n",
       "        vertical-align: middle;\n",
       "    }\n",
       "\n",
       "    .dataframe tbody tr th {\n",
       "        vertical-align: top;\n",
       "    }\n",
       "\n",
       "    .dataframe thead th {\n",
       "        text-align: right;\n",
       "    }\n",
       "</style>\n",
       "<table border=\"1\" class=\"dataframe\">\n",
       "  <thead>\n",
       "    <tr style=\"text-align: right;\">\n",
       "      <th></th>\n",
       "      <th>year</th>\n",
       "      <th>sjtocount_resolution</th>\n",
       "      <th>dcount</th>\n",
       "    </tr>\n",
       "  </thead>\n",
       "  <tbody>\n",
       "    <tr>\n",
       "      <th>0</th>\n",
       "      <td>2020</td>\n",
       "      <td>35983</td>\n",
       "      <td>4499</td>\n",
       "    </tr>\n",
       "    <tr>\n",
       "      <th>1</th>\n",
       "      <td>2019</td>\n",
       "      <td>72064</td>\n",
       "      <td>890</td>\n",
       "    </tr>\n",
       "    <tr>\n",
       "      <th>2</th>\n",
       "      <td>2018</td>\n",
       "      <td>79476</td>\n",
       "      <td>1996</td>\n",
       "    </tr>\n",
       "    <tr>\n",
       "      <th>3</th>\n",
       "      <td>2017</td>\n",
       "      <td>78260</td>\n",
       "      <td>2462</td>\n",
       "    </tr>\n",
       "    <tr>\n",
       "      <th>4</th>\n",
       "      <td>2016</td>\n",
       "      <td>78783</td>\n",
       "      <td>2059</td>\n",
       "    </tr>\n",
       "    <tr>\n",
       "      <th>5</th>\n",
       "      <td>2015</td>\n",
       "      <td>77773</td>\n",
       "      <td>1411</td>\n",
       "    </tr>\n",
       "    <tr>\n",
       "      <th>6</th>\n",
       "      <td>2014</td>\n",
       "      <td>77148</td>\n",
       "      <td>469</td>\n",
       "    </tr>\n",
       "    <tr>\n",
       "      <th>7</th>\n",
       "      <td>2013</td>\n",
       "      <td>82126</td>\n",
       "      <td>1409</td>\n",
       "    </tr>\n",
       "    <tr>\n",
       "      <th>8</th>\n",
       "      <td>2012</td>\n",
       "      <td>80261</td>\n",
       "      <td>2554</td>\n",
       "    </tr>\n",
       "    <tr>\n",
       "      <th>9</th>\n",
       "      <td>2011</td>\n",
       "      <td>81032</td>\n",
       "      <td>2141</td>\n",
       "    </tr>\n",
       "    <tr>\n",
       "      <th>10</th>\n",
       "      <td>2010</td>\n",
       "      <td>75420</td>\n",
       "      <td>2364</td>\n",
       "    </tr>\n",
       "  </tbody>\n",
       "</table>\n",
       "</div>"
      ],
      "text/plain": [
       "    year  sjtocount_resolution  dcount\n",
       "0   2020                 35983    4499\n",
       "1   2019                 72064     890\n",
       "2   2018                 79476    1996\n",
       "3   2017                 78260    2462\n",
       "4   2016                 78783    2059\n",
       "5   2015                 77773    1411\n",
       "6   2014                 77148     469\n",
       "7   2013                 82126    1409\n",
       "8   2012                 80261    2554\n",
       "9   2011                 81032    2141\n",
       "10  2010                 75420    2364"
      ]
     },
     "execution_count": 2,
     "metadata": {},
     "output_type": "execute_result"
    }
   ],
   "source": [
    "yearcount = df['year'].value_counts().reset_index()\n",
    "yearcount.columns = ['year','count']\n",
    "# yearcount = yearcount[(yearcount['year']>=2010)&(yearcount['year']<=2020)]\n",
    "ycdict = dict(zip(yearcount['year'],yearcount['count']))\n",
    "\n",
    "sjdf = pd.read_csv(mainpath +'output/sjto_data/appresolutionstats_sjto.csv',sep='\\t')\n",
    "del sjdf['notes']\n",
    "sjdf = sjdf[sjdf['Resolution Type']== 'Total']\n",
    "del sjdf['Resolution Type']\n",
    "\n",
    "sjdf.columns = [int(x) for x in ['2020', '2019', '2018', '2017', '2016', '2015', '2014', '2013', '2012', '2011', '2010']]\n",
    "sjdf = sjdf.T.reset_index()\n",
    "sjdf.columns = ['year','sjtocount_resolution']\n",
    "sjdf['dcount'] = sjdf['year'].map(ycdict)\n",
    "sjdf['sjtocount_resolution'] = sjdf['sjtocount_resolution'].astype(int)\n",
    "# sjdf.set_index('year')\n",
    "sjdf"
   ]
  },
  {
   "cell_type": "code",
   "execution_count": 3,
   "id": "e0c3087e-2567-4e49-8047-9f0ecf6640b3",
   "metadata": {},
   "outputs": [
    {
     "data": {
      "image/png": "[encoded data removed]",
      "text/plain": [
       "<Figure size 1080x360 with 2 Axes>"
      ]
     },
     "metadata": {
      "needs_background": "light"
     },
     "output_type": "display_data"
    }
   ],
   "source": [
    "fig, axs = plt.subplots(figsize=(15,5))\n",
    "axs.tick_params(axis='both', which='major', pad=12,length=10)\n",
    "\n",
    "sjdf.plot(ax=axs, x='year', y='sjtocount_resolution', grid=True, label=\"Tribunals Ontario\", linewidth=4,xlabel='Year',ylabel = \"Number of Cases Resolved\",color=colordict['purple'][2])\n",
    "sjdf.plot(ax=axs, x='year', y='dcount', secondary_y=True, label=\"Custom Dataset\", linewidth=4,xlabel='Year', grid=True,xticks = sorted(sjdf['year'].tolist()),color=colordict['green'][2])\n",
    "plt.rcParams['legend.loc'] = \"best\"\n",
    "plt.rcParams[\"font.family\"] = \"serif\"\n",
    "plt.rcParams[\"font.size\"] = 16\n",
    "plt.rcParams['mathtext.fontset'] = 'dejavuserif'\n",
    "plt.rcParams['axes.labelsize'] = 16\n",
    "plt.rcParams['axes.labelpad'] = 10\n",
    "plt.rcParams['axes.titlesize'] = 16\n",
    "# plt.savefig(mainpath + 'graphs/sjtovscustomdb.png', dpi=600, bbox_inches='tight')\n",
    "plt.show()"
   ]
  },
  {
   "cell_type": "markdown",
   "id": "4aa6039a-2366-4d28-a4be-3a378c441995",
   "metadata": {},
   "source": [
    "<h2> Cases by Office Location </h2>"
   ]
  },
  {
   "cell_type": "code",
   "execution_count": 4,
   "id": "a72ad1ef-5798-4fd3-921f-b0ea95081e4f",
   "metadata": {
    "scrolled": true,
    "tags": []
   },
   "outputs": [],
   "source": [
    "alllocs = sorted(list(set(df['newloc'].tolist())))\n",
    "newlocframes = []\n",
    "for n,g in df.groupby(['year']):\n",
    "    g2 = g['newloc'].value_counts().reset_index().T\n",
    "    g2.columns = g2.iloc[0]\n",
    "    g2 = g2.iloc[1:]\n",
    "    g2cols = list(g2.columns)\n",
    "    missingcols = list(set(alllocs)-set(g2cols))\n",
    "    for m in missingcols:\n",
    "        g2[m] = 0\n",
    "    g2['year'] = n\n",
    "    newlocframes.append(g2)\n",
    "nlocdf = pd.concat(newlocframes)\n",
    "nlocdf = nlocdf[['year','Southern_Hamilton', 'SouthWest_London','Central_Mississauga', 'Eastern_Ottawa', 'Northern_Sudbury', 'TOEast', 'HeadOffice_Toronto', 'TONorth', 'TOSouth','missing']]"
   ]
  },
  {
   "cell_type": "markdown",
   "id": "be18d0d6-552d-4f28-b88e-d8617353f84d",
   "metadata": {},
   "source": [
    "<h2> Custom Applicant Win/loss Rates </h2>"
   ]
  },
  {
   "cell_type": "code",
   "execution_count": 5,
   "id": "a7961344-2d72-4456-957d-d96e03fa176f",
   "metadata": {
    "scrolled": true,
    "tags": []
   },
   "outputs": [
    {
     "name": "stdout",
     "output_type": "stream",
     "text": [
      "(60, 8)\n"
     ]
    }
   ],
   "source": [
    "ydf = get_winlossfull(df)\n",
    "print(ydf.shape)"
   ]
  },
  {
   "cell_type": "code",
   "execution_count": 6,
   "id": "6d120fa5-9606-4cee-a33e-fe62c35be4d0",
   "metadata": {},
   "outputs": [
    {
     "data": {
      "text/plain": [
       "(36460, 35)"
      ]
     },
     "execution_count": 6,
     "metadata": {},
     "output_type": "execute_result"
    }
   ],
   "source": [
    "df.shape"
   ]
  },
  {
   "cell_type": "markdown",
   "id": "9bef67b5-c462-42c7-8e60-a6de73d36bf2",
   "metadata": {},
   "source": [
    "<h2> Custom Cumulative Distribution of Applicants by Ruling </h2>"
   ]
  },
  {
   "cell_type": "code",
   "execution_count": 7,
   "id": "048cde98-d305-4414-99e9-5891aba59112",
   "metadata": {},
   "outputs": [],
   "source": [
    "qrtrs = ['2007', '', '', '', '2008', '', '', '','2009', '', '', '', '2010', '', '', '', '2011', '', '', '', '2012', '', '', '', '2013', '', '', '', '2014', '', '', '', '2015', '', '', '','2016', '', '', '', '2017', '', '', '', '2018', '', '', '', '2019', '', '', '', '2020', '', '', '', '2021', '', '', '']\n",
    "qrtrslen = len(qrtrs)"
   ]
  },
  {
   "cell_type": "code",
   "execution_count": 8,
   "id": "f5d61ef8-6957-485e-80e8-e5356a64342e",
   "metadata": {},
   "outputs": [
    {
     "name": "stdout",
     "output_type": "stream",
     "text": [
      "36460\n",
      "36460\n"
     ]
    }
   ],
   "source": [
    "print(sum(ydf['llcasecount'].tolist())+sum(ydf['ttcasecount'].tolist()))\n",
    "print(sum(ydf['casecount'].tolist()))"
   ]
  },
  {
   "cell_type": "code",
   "execution_count": 9,
   "id": "e751604d-039d-4f92-925a-beed3e9bfb96",
   "metadata": {},
   "outputs": [
    {
     "data": {
      "image/png": "[encoded data removed]",
      "text/plain": [
       "<Figure size 1224x360 with 2 Axes>"
      ]
     },
     "metadata": {
      "needs_background": "light"
     },
     "output_type": "display_data"
    }
   ],
   "source": [
    "fig, ax = plt.subplots()\n",
    "ydf.plot(ax=ax, x='quarter', y=['llcasecount','ttcasecount'], secondary_y=True, label=['Landlord Applications','Tenant Applications'], linewidth=4,xlabel=None, ylabel=None,grid=True,color=[colordict['blue'][4],colordict['pink'][4]],legend=False)\n",
    "ydf[['quarter','llwins','llloss','ttwins','ttloss']].plot(kind='bar', stacked=True,figsize=(17, 5),color=[colordict['blue'][0],colordict['blue'][2],colordict['pink'][0],colordict['pink'][4]],ax=ax,width=0.7,xlabel=None, ylabel=None)\n",
    "\n",
    "ax.set_xticks(np.arange(0,qrtrslen,1))\n",
    "ax.set_xticklabels(qrtrs)\n",
    "ax.tick_params(length=10, which='both', pad=10)\n",
    "\n",
    "plt.rcParams[\"font.family\"] = \"serif\"\n",
    "plt.rcParams[\"font.size\"] = 16\n",
    "plt.rcParams['mathtext.fontset'] = 'dejavuserif'\n",
    "\n",
    "plt.xticks(rotation =0,fontsize=16,fontname='serif')\n",
    "plt.yticks(rotation =0,fontsize=16,fontname='serif')\n",
    "plt.xlabel('Quarter', fontsize=18,labelpad=10,fontname='serif')\n",
    "plt.grid(linestyle = '--', linewidth = 0.5)\n",
    "ax.get_legend().remove()\n",
    "plt.savefig(mainpath + 'graphs/svmmodel_dist.png', dpi=600, bbox_inches='tight')\n",
    "plt.savefig(mainpath + 'graphs/svgs/svmmodel_dist.svg', dpi=600, bbox_inches='tight')"
   ]
  },
  {
   "cell_type": "markdown",
   "id": "19d0638d-b13f-48a7-95b8-e9e6bf369802",
   "metadata": {},
   "source": [
    "<h2> Custom Proportion of Applications Won by Landlords and Tenants Across Topics </h2>"
   ]
  },
  {
   "cell_type": "code",
   "execution_count": 35,
   "id": "7ba5685f-f4fd-46ba-8c8c-abb38465065f",
   "metadata": {},
   "outputs": [
    {
     "data": {
      "text/plain": [
       "Nonpayment          11129\n",
       "Failed Condition     2555\n",
       "Breaking Rules       2545\n",
       "Agree Terminate      1016\n",
       "Moratorium            379\n",
       "Rent Changes          120\n",
       "Name: tname, dtype: int64"
      ]
     },
     "execution_count": 35,
     "metadata": {},
     "output_type": "execute_result"
    }
   ],
   "source": [
    "df20['tname'].value_counts()"
   ]
  },
  {
   "cell_type": "code",
   "execution_count": 36,
   "id": "caee01d5-6613-44b3-b7f5-c1e8e73d7cb0",
   "metadata": {},
   "outputs": [],
   "source": [
    "nonpayment = get_winloss(df20,\"Nonpayment\")\n",
    "rules = get_winloss(df20,\"Breaking Rules\")\n",
    "failcond = get_winloss(df20,\"Failed Condition\")\n",
    "agreetermin = get_winloss(df20,\"Agree Terminate\")\n",
    "rent = get_winloss(df20,\"Rent Changes\")\n",
    "moratorium = get_winloss(df20,\"Moratorium\")"
   ]
  },
  {
   "cell_type": "code",
   "execution_count": 1,
   "id": "b1f1a20d-b0c3-4aa3-9437-3f35fea4cf79",
   "metadata": {},
   "outputs": [],
   "source": [
    "plottopic(nonpayment,\"Nonpayment\",topicolors,colordict)"
   ]
  },
  {
   "cell_type": "code",
   "execution_count": 2,
   "id": "88531b5e-f49c-4055-bf91-0ded5a243b0b",
   "metadata": {},
   "outputs": [],
   "source": [
    "plottopic(rules,\"Breaking Rules\",topicolors,colordict)"
   ]
  },
  {
   "cell_type": "code",
   "execution_count": 3,
   "id": "cb4907c1-8e8b-4baf-bb31-d16aba619540",
   "metadata": {},
   "outputs": [],
   "source": [
    "plottopic(failcond,\"Failed Condition\",topicolors,colordict)"
   ]
  },
  {
   "cell_type": "code",
   "execution_count": 4,
   "id": "2c453b32-7379-464e-bfe0-cfba1ebce00f",
   "metadata": {},
   "outputs": [],
   "source": [
    "plottopic(rent,\"Rent Changes\",topicolors,colordict)"
   ]
  },
  {
   "cell_type": "code",
   "execution_count": 5,
   "id": "b711088f-796c-4ed5-8c41-e278d84e5b8e",
   "metadata": {},
   "outputs": [],
   "source": [
    "plottopic(moratorium,\"Moratorium\",topicolors,colordict)"
   ]
  },
  {
   "cell_type": "code",
   "execution_count": 6,
   "id": "cb470d08-bad1-4df1-8bd2-ae10d5da8b47",
   "metadata": {},
   "outputs": [],
   "source": [
    "plottopic(agreetermin,\"Agree Terminate\",topicolors,colordict)"
   ]
  }
 ],
 "metadata": {
  "kernelspec": {
   "display_name": "Python 3 (ipykernel)",
   "language": "python",
   "name": "python3"
  },
  "language_info": {
   "codemirror_mode": {
    "name": "ipython",
    "version": 3
   },
   "file_extension": ".py",
   "mimetype": "text/x-python",
   "name": "python",
   "nbconvert_exporter": "python",
   "pygments_lexer": "ipython3",
   "version": "3.8.10"
  }
 },
 "nbformat": 4,
 "nbformat_minor": 5
}
